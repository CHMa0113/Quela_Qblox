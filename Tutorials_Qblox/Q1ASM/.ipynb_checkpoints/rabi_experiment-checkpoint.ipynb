{
 "cells": [
  {
   "cell_type": "markdown",
   "id": "7c7716f7",
   "metadata": {},
   "source": [
    "# Rabi experiment"
   ]
  },
  {
   "cell_type": "markdown",
   "id": "6bfa47a8",
   "metadata": {
    "tags": []
   },
   "source": [
    "In this tutorial we will combine the techniques explained in the other tutorials and show how to perform a Rabi experiment. For this tutorial we will need one QCM to generate the Rabi pulses and one QRM to perform the readout, although the QCM could be replaced by another QRM if needed.\n",
    "\n",
    "Ports $\\text{O}^{[1-2]}$ of the QCM are used for the driving pulse, while $\\text{O}^{[1-2]}$ of the QRM are used for the readout pulse. Finally, ports $\\text{I}^{[1-2]}$ are used for the acquisition of the readout tone. In this tutorial it is assumed $\\text{O}^{1}$ of the QRM is connected to $\\text{I}^{1}$ of the QRM for time of flight calibration.\n",
    "Furthermore we assume that $\\text{O}^{1}$ of the QCM and $\\text{O}^{2}$ of the QRM are connected to an external oscilloscope to view the Rabi experiment pattern. The scope can be triggered of marker 1 of the QCM.\n",
    "\n",
    "As demonstrated in the synchronization tutorial, the SYNQ technology synchronizes the programs in the two modules. If you are using Pulsar modules,\n",
    "to ensure synchronization between the modules, connect the $\\text{REF}^{out}$ of the Pulsar QCM to the \n",
    "$\\text{REF}^{in}$ of the Pulsar QRM using a coaxial cable, and connect their SYNQ ports using the SYNQ cable.\n",
    "\n",
    "If you are using a Cluster, then no extra connection needs to be made as the modules are internally connected with SYNQ capability.\n",
    "\n",
    "To run this tutorial please make sure you have installed and enabled ipywidgets: \n",
    "```\n",
    "pip install ipywidgets\n",
    "jupyter nbextension enable --py widgetsnbextension\n",
    "```"
   ]
  },
  {
   "cell_type": "markdown",
   "id": "9de2d230-659c-42ba-9aa6-224a12a0e327",
   "metadata": {
    "tags": []
   },
   "source": [
    "## Setup\n",
    "\n",
    "\n",
    "First, we are going to import the required packages and connect to the instrument."
   ]
  },
  {
   "cell_type": "code",
   "execution_count": 1,
   "id": "94104d57-b1fb-4f42-a815-41bbb20b1d04",
   "metadata": {
    "ExecuteTime": {
     "end_time": "2022-12-02T15:31:01.519883Z",
     "start_time": "2022-12-02T15:30:56.480032Z"
    },
    "tags": []
   },
   "outputs": [],
   "source": [
    "# Import ipython widgets\n",
    "import json\n",
    "import math\n",
    "\n",
    "import ipywidgets as widgets\n",
    "import matplotlib.pyplot as plt\n",
    "import numpy as np\n",
    "\n",
    "# Set up the environment.\n",
    "import scipy.signal\n",
    "from IPython.display import display\n",
    "from ipywidgets import fixed, interact, interact_manual, interactive\n",
    "from qcodes import Instrument\n",
    "from qblox_instruments import Cluster, PlugAndPlay, Pulsar"
   ]
  },
  {
   "cell_type": "markdown",
   "id": "e0871883",
   "metadata": {},
   "source": [
    "### Scan For Devices\n",
    "\n",
    "We scan for the available devices connected via ethernet using the Plug & Play functionality of the Qblox Instruments package (see [Plug & Play](https://qblox-qblox-instruments.readthedocs-hosted.com/en/master/api_reference/tools.html#plug-play) for more info)."
   ]
  },
  {
   "cell_type": "code",
   "execution_count": 2,
   "id": "d449d175",
   "metadata": {},
   "outputs": [
    {
     "name": "stdout",
     "output_type": "stream",
     "text": [
      "The following widget displays all the existing modules that are connected to your PC which includes the Pulsar modules as well as a Cluster. Select the device you want to run the notebook on.\n"
     ]
    },
    {
     "data": {
      "application/vnd.jupyter.widget-view+json": {
       "model_id": "9772d814a53d4cbba353d5f6273a559d",
       "version_major": 2,
       "version_minor": 0
      },
      "text/plain": [
       "Dropdown(description='Select Device', options=('cluster-mm',), value='cluster-mm')"
      ]
     },
     "metadata": {},
     "output_type": "display_data"
    }
   ],
   "source": [
    "# Scan for available devices and display\n",
    "with PlugAndPlay() as p:\n",
    "    # get info of all devices\n",
    "    device_list = p.list_devices()\n",
    "\n",
    "names = {dev_id: dev_info[\"description\"][\"name\"] for dev_id, dev_info in device_list.items()}\n",
    "ip_addresses = {dev_id: dev_info[\"identity\"][\"ip\"] for dev_id, dev_info in device_list.items()}\n",
    "\n",
    "# create widget for names and ip addresses\n",
    "connect = widgets.Dropdown(\n",
    "    options=[\n",
    "        (names[dev_id] + \" @\" + ip_addresses[dev_id], dev_id) for dev_id in device_list.keys()\n",
    "    ],\n",
    "    description=\"Select Device\",\n",
    ")\n",
    "display(connect)"
   ]
  },
  {
   "cell_type": "markdown",
   "id": "75e7c3e1",
   "metadata": {},
   "source": [
    "### Connect to Cluster\n",
    "\n",
    "We now make a connection with the Cluster selected in the dropdown widget. We also define a function to find the modules we're interested in. We select the readout and control module we want to use."
   ]
  },
  {
   "cell_type": "code",
   "execution_count": null,
   "id": "674c952f",
   "metadata": {},
   "outputs": [],
   "source": [
    "# Connect to device\n",
    "dev_id = connect.value\n",
    "# Close the chosen QCodes instrument as to prevent name clash.\n",
    "try:\n",
    "    Instrument.find_instrument(names[dev_id]).close()\n",
    "except KeyError:\n",
    "    pass\n",
    "\n",
    "cluster = Cluster(name=names[dev_id], identifier=ip_addresses[dev_id])\n",
    "\n",
    "print(f\"{connect.label} connected\")\n",
    "print(cluster.get_system_state())"
   ]
  },
  {
   "cell_type": "code",
   "execution_count": null,
   "id": "0ad0532e",
   "metadata": {},
   "outputs": [],
   "source": [
    "def select_module_widget(\n",
    "    device, select_all=False, select_qrm_type: bool = True, select_rf_type: bool = False\n",
    "):\n",
    "    \"\"\"Create a widget to select modules of a certain type\n",
    "\n",
    "    default is to show only QRM baseband\n",
    "\n",
    "    Args:\n",
    "        devices : Cluster we are currently using\n",
    "        select_all (bool): ignore filters and show all modules\n",
    "        select_qrm_type (bool): filter QRM/QCM\n",
    "        select_rf_type (bool): filter RF/baseband\n",
    "    \"\"\"\n",
    "    options = [[None, None]]\n",
    "\n",
    "    for module in device.modules:\n",
    "        if module.present():\n",
    "            if select_all or (\n",
    "                module.is_qrm_type == select_qrm_type and module.is_rf_type == select_rf_type\n",
    "            ):\n",
    "                options.append(\n",
    "                    [\n",
    "                        f\"{device.name} \"\n",
    "                        f\"{module.short_name} \"\n",
    "                        f\"({module.module_type}{'_RF' if module.is_rf_type else ''})\",\n",
    "                        module,\n",
    "                    ]\n",
    "                )\n",
    "    widget = widgets.Dropdown(options=options)\n",
    "    display(widget)\n",
    "\n",
    "    return widget"
   ]
  },
  {
   "cell_type": "code",
   "execution_count": null,
   "id": "b5816d59",
   "metadata": {},
   "outputs": [],
   "source": [
    "print(\"Select the readout module from the available modules:\")\n",
    "select_readout_module = select_module_widget(cluster, select_qrm_type=True, select_rf_type=False)"
   ]
  },
  {
   "cell_type": "code",
   "execution_count": null,
   "id": "7bb79cc0",
   "metadata": {},
   "outputs": [],
   "source": [
    "readout_module = select_readout_module.value\n",
    "print(f\"{readout_module} connected\")"
   ]
  },
  {
   "cell_type": "code",
   "execution_count": null,
   "id": "47954004",
   "metadata": {},
   "outputs": [],
   "source": [
    "print(\"Select the control module from the available modules:\")\n",
    "select_control_module = select_module_widget(cluster, select_qrm_type=False, select_rf_type=False)"
   ]
  },
  {
   "cell_type": "code",
   "execution_count": null,
   "id": "a28fa6fb",
   "metadata": {},
   "outputs": [],
   "source": [
    "control_module = select_control_module.value\n",
    "print(f\"{control_module} connected\")"
   ]
  },
  {
   "cell_type": "markdown",
   "id": "500362b2-34bf-40ad-b89c-943b1cfa8825",
   "metadata": {},
   "source": [
    "## Sequencer Setup <a id='seq_setup'></a>\n"
   ]
  },
  {
   "cell_type": "markdown",
   "id": "23569e3a-8c7c-4c8a-b34d-8e2f1f98eab4",
   "metadata": {},
   "source": [
    "Set `sync_en` to synchronize across modules."
   ]
  },
  {
   "cell_type": "code",
   "execution_count": 7,
   "id": "c1c0c767",
   "metadata": {
    "ExecuteTime": {
     "end_time": "2022-12-02T15:35:45.401009Z",
     "start_time": "2022-12-02T15:35:45.369930Z"
    }
   },
   "outputs": [],
   "source": [
    "# Set sync_en\n",
    "readout_module.sequencer0.sync_en(True)\n",
    "control_module.sequencer0.sync_en(True)"
   ]
  },
  {
   "cell_type": "markdown",
   "id": "fb3a0823",
   "metadata": {},
   "source": [
    "Configure the `NCO` of both the QRM and QCM to 100 MHz and enable the up- and down-conversion in the sequencers"
   ]
  },
  {
   "cell_type": "code",
   "execution_count": 8,
   "id": "6843fb2e",
   "metadata": {
    "ExecuteTime": {
     "end_time": "2022-12-02T15:35:46.993831Z",
     "start_time": "2022-12-02T15:35:46.945354Z"
    }
   },
   "outputs": [],
   "source": [
    "readout_module.sequencer0.nco_freq(100e6)\n",
    "readout_module.sequencer0.mod_en_awg(True)\n",
    "readout_module.sequencer0.demod_en_acq(True)\n",
    "\n",
    "control_module.sequencer0.nco_freq(100e6)\n",
    "control_module.sequencer0.mod_en_awg(True)"
   ]
  },
  {
   "cell_type": "markdown",
   "id": "f89af3b3",
   "metadata": {},
   "source": [
    "Configure the outputs of the QRM and QCM such that sequencer0 is the only enabled sequencer and maps to $\\text{O}^{[1-2]}$"
   ]
  },
  {
   "cell_type": "code",
   "execution_count": 9,
   "id": "c4b1f562",
   "metadata": {
    "ExecuteTime": {
     "end_time": "2022-12-02T15:35:48.309440Z",
     "start_time": "2022-12-02T15:35:48.150219Z"
    }
   },
   "outputs": [],
   "source": [
    "# Map sequencer of the QCM to specific outputs (but first disable all sequencer connections)\n",
    "control_module.disconnect_outputs()\n",
    "\n",
    "control_module.sequencer0.connect_sequencer(\"out0_1\")\n",
    "\n",
    "# Map sequencer of the QRM to specific outputs (but first disable all sequencer connections)\n",
    "readout_module.disconnect_outputs()\n",
    "readout_module.disconnect_inputs()\n",
    "\n",
    "readout_module.sequencer0.connect_sequencer(\"io0_1\")"
   ]
  },
  {
   "cell_type": "markdown",
   "id": "7d936140",
   "metadata": {},
   "source": [
    "## Define waveforms"
   ]
  },
  {
   "cell_type": "markdown",
   "id": "8d3729bf",
   "metadata": {},
   "source": [
    "To readout the systems we define constant pulses `one` and `zero` which will be up converted by the `NCO` to create the appropriate tones for an IQ mixer.\n",
    "Similarly for driving the qubit, we define a Gaussian pulse, together with a zero pulse of equal length to serve as inputs for an IQ mixer. In this tutorial we do not assume mixers to be connected to the inputs and outputs of the QCM/QRM."
   ]
  },
  {
   "cell_type": "code",
   "execution_count": 10,
   "id": "4d1e2739",
   "metadata": {
    "ExecuteTime": {
     "end_time": "2022-12-02T15:35:50.679637Z",
     "start_time": "2022-12-02T15:35:50.650612Z"
    }
   },
   "outputs": [],
   "source": [
    "t = np.arange(-80, 81, 1)\n",
    "sigma = 20\n",
    "wfs = {\n",
    "    \"zero\": {\"index\": 0, \"data\": [0.0] * 1024},\n",
    "    \"one\": {\"index\": 1, \"data\": [1.0] * 1024},\n",
    "    \"gauss\": {\"index\": 2, \"data\": list(np.exp(-(0.5 * t**2 / sigma**2)))},\n",
    "    \"empty\": {\"index\": 3, \"data\": list(0.0 * t)},\n",
    "}"
   ]
  },
  {
   "cell_type": "markdown",
   "id": "8ca1301b",
   "metadata": {},
   "source": [
    "Hence we obtain the following waveforms for readout:"
   ]
  },
  {
   "cell_type": "code",
   "execution_count": 11,
   "id": "d9c57aac",
   "metadata": {
    "ExecuteTime": {
     "end_time": "2022-12-02T15:35:51.959656Z",
     "start_time": "2022-12-02T15:35:51.732654Z"
    }
   },
   "outputs": [
    {
     "data": {
      "text/plain": [
       "[<matplotlib.lines.Line2D at 0x29bf811b850>]"
      ]
     },
     "execution_count": 11,
     "metadata": {},
     "output_type": "execute_result"
    },
    {
     "data": {
      "image/png": "[encoded data removed]",
      "text/plain": [
       "<Figure size 640x480 with 1 Axes>"
      ]
     },
     "metadata": {},
     "output_type": "display_data"
    }
   ],
   "source": [
    "plt.plot(wfs[\"zero\"][\"data\"])\n",
    "plt.plot(wfs[\"one\"][\"data\"])"
   ]
  },
  {
   "cell_type": "markdown",
   "id": "84ab72a8",
   "metadata": {},
   "source": [
    "And for drive:"
   ]
  },
  {
   "cell_type": "code",
   "execution_count": 12,
   "id": "3444a90c",
   "metadata": {
    "ExecuteTime": {
     "end_time": "2022-12-02T15:35:53.732439Z",
     "start_time": "2022-12-02T15:35:53.556744Z"
    }
   },
   "outputs": [
    {
     "data": {
      "text/plain": [
       "[<matplotlib.lines.Line2D at 0x29bf8361bb0>]"
      ]
     },
     "execution_count": 12,
     "metadata": {},
     "output_type": "execute_result"
    },
    {
     "data": {
      "image/png": "[encoded data removed]",
      "text/plain": [
       "<Figure size 640x480 with 1 Axes>"
      ]
     },
     "metadata": {},
     "output_type": "display_data"
    }
   ],
   "source": [
    "plt.plot(wfs[\"gauss\"][\"data\"])\n",
    "plt.plot(wfs[\"empty\"][\"data\"])"
   ]
  },
  {
   "cell_type": "markdown",
   "id": "3500a4f9",
   "metadata": {},
   "source": [
    "Finally, we define two acquisitions. A single readout to perform the calibration measurements. Secondly we create a `rabi` readout sequence that contains 50 different bins for saving the results, one for each of the different amplitudes used for the drive tone."
   ]
  },
  {
   "cell_type": "code",
   "execution_count": 13,
   "id": "03e61d71",
   "metadata": {
    "ExecuteTime": {
     "end_time": "2022-12-02T15:35:55.068080Z",
     "start_time": "2022-12-02T15:35:55.056081Z"
    }
   },
   "outputs": [],
   "source": [
    "num_bins = 50  # Number of amplitudes to be measured\n",
    "acquisitions = {\n",
    "    \"single\": {\"num_bins\": 1, \"index\": 0},\n",
    "    \"rabi\": {\"num_bins\": num_bins, \"index\": 1},\n",
    "}"
   ]
  },
  {
   "cell_type": "markdown",
   "id": "22e8b2ab",
   "metadata": {},
   "source": [
    "## Calibration experiments"
   ]
  },
  {
   "cell_type": "markdown",
   "id": "10185ccc",
   "metadata": {},
   "source": [
    "### TOF calibration"
   ]
  },
  {
   "cell_type": "markdown",
   "id": "7b2cfaca",
   "metadata": {},
   "source": [
    "As a first step, we calibrate the time of flight (tof) for the QRM module. In order to do so, we play a readout pulse and analyze the obtained signal on the oscilloscope to find the travel time of the pulse through the system."
   ]
  },
  {
   "cell_type": "code",
   "execution_count": 14,
   "id": "30cc12a3",
   "metadata": {
    "ExecuteTime": {
     "end_time": "2022-12-02T15:35:57.905499Z",
     "start_time": "2022-12-02T15:35:57.889158Z"
    }
   },
   "outputs": [],
   "source": [
    "qrm_prog = f\"\"\"\n",
    "play    1, 0, 4     # start readout pulse\n",
    "acquire 0, 0, 16384 # start the 'single' acquisition sequence and wait for the length of the scope acquisition window\n",
    "stop\n",
    "\"\"\""
   ]
  },
  {
   "cell_type": "markdown",
   "id": "1bd7c823",
   "metadata": {},
   "source": [
    "Upload the program, together with the waveforms and acquisitions to the QRM"
   ]
  },
  {
   "cell_type": "code",
   "execution_count": 15,
   "id": "d91df0dc",
   "metadata": {
    "ExecuteTime": {
     "end_time": "2022-12-02T15:35:59.911717Z",
     "start_time": "2022-12-02T15:35:59.840396Z"
    }
   },
   "outputs": [],
   "source": [
    "sequence = {\n",
    "    \"waveforms\": wfs,\n",
    "    \"weights\": {},\n",
    "    \"acquisitions\": acquisitions,\n",
    "    \"program\": qrm_prog,\n",
    "}\n",
    "with open(\"sequence.json\", \"w\", encoding=\"utf-8\") as file:\n",
    "    json.dump(sequence, file, indent=4)\n",
    "    file.close()\n",
    "# Upload sequence.\n",
    "readout_module.sequencer0.sequence(\"sequence.json\")"
   ]
  },
  {
   "cell_type": "markdown",
   "id": "dfdee8b4",
   "metadata": {},
   "source": [
    "Perform the calibration experiment"
   ]
  },
  {
   "cell_type": "code",
   "execution_count": 16,
   "id": "5500e104",
   "metadata": {
    "ExecuteTime": {
     "end_time": "2022-12-02T15:36:01.956100Z",
     "start_time": "2022-12-02T15:36:01.910086Z"
    }
   },
   "outputs": [
    {
     "name": "stdout",
     "output_type": "stream",
     "text": [
      "Status: STOPPED, Flags: FORCED_STOP, ACQ_SCOPE_DONE_PATH_0, ACQ_SCOPE_DONE_PATH_1, ACQ_BINNING_DONE\n"
     ]
    }
   ],
   "source": [
    "# Arm and start sequencer.\n",
    "readout_module.arm_sequencer(0)\n",
    "readout_module.start_sequencer()\n",
    "\n",
    "# Wait for the sequencer and acquisition to finish with a timeout period of one minute.\n",
    "readout_module.get_acquisition_state(0, 1)\n",
    "readout_module.store_scope_acquisition(0, \"single\")\n",
    "# Print status of sequencer.\n",
    "print(readout_module.get_sequencer_state(0))"
   ]
  },
  {
   "cell_type": "markdown",
   "id": "cc121c12",
   "metadata": {},
   "source": [
    "Analyze the resulting signal on the scope to find the tof"
   ]
  },
  {
   "cell_type": "code",
   "execution_count": 17,
   "id": "dfa6a61c",
   "metadata": {
    "ExecuteTime": {
     "end_time": "2022-12-02T15:36:07.393022Z",
     "start_time": "2022-12-02T15:36:07.319360Z"
    }
   },
   "outputs": [],
   "source": [
    "p0 = np.array(readout_module.get_acquisitions(0)[\"single\"][\"acquisition\"][\"scope\"][\"path0\"][\"data\"])\n",
    "p1 = np.array(readout_module.get_acquisitions(0)[\"single\"][\"acquisition\"][\"scope\"][\"path1\"][\"data\"])\n",
    "# Determine when the signal crosses half-max for the first time (in ns)\n",
    "t_halfmax = np.where(np.abs(p0) > np.max(p0) / 2)[0][0]\n",
    "\n",
    "# The time it takes for a sine wave to reach its half-max value is (in ns)\n",
    "correction = 1 / readout_module.sequencer0.nco_freq() * 1e9 / 12\n",
    "\n",
    "tof_measured = t_halfmax - correction"
   ]
  },
  {
   "cell_type": "markdown",
   "id": "41eb0b9d",
   "metadata": {},
   "source": [
    "Plot the signal on the scope, around the rising and falling edge of the acquisition signal, as determined by the tof analysis above:"
   ]
  },
  {
   "cell_type": "code",
   "execution_count": 18,
   "id": "ce771ae6",
   "metadata": {
    "ExecuteTime": {
     "end_time": "2022-12-02T15:36:10.290614Z",
     "start_time": "2022-12-02T15:36:09.921883Z"
    }
   },
   "outputs": [
    {
     "data": {
      "image/png": "[encoded data removed]",
      "text/plain": [
       "<Figure size 640x480 with 1 Axes>"
      ]
     },
     "metadata": {},
     "output_type": "display_data"
    },
    {
     "data": {
      "image/png": "[encoded data removed]",
      "text/plain": [
       "<Figure size 640x480 with 1 Axes>"
      ]
     },
     "metadata": {},
     "output_type": "display_data"
    }
   ],
   "source": [
    "r = readout_module.get_acquisitions(0)[\"single\"][\"acquisition\"][\"scope\"]\n",
    "plt.plot(r[\"path0\"][\"data\"], \".-\")\n",
    "plt.plot(r[\"path1\"][\"data\"], \".-\")\n",
    "plt.axvline(tof_measured, c=\"k\")\n",
    "plt.xlim(\n",
    "    tof_measured - 10 / readout_module.sequencer0.nco_freq() * 1e9,\n",
    "    tof_measured + 10 / readout_module.sequencer0.nco_freq() * 1e9,\n",
    ")\n",
    "plt.show()\n",
    "\n",
    "plt.plot(r[\"path0\"][\"data\"], \".-\")\n",
    "plt.plot(r[\"path1\"][\"data\"], \".-\")\n",
    "plt.axvline(1024 + tof_measured, c=\"k\")\n",
    "plt.xlim(\n",
    "    1024 + tof_measured - 10 / readout_module.sequencer0.nco_freq() * 1e9,\n",
    "    1024 + tof_measured + 10 / readout_module.sequencer0.nco_freq() * 1e9,\n",
    ")\n",
    "plt.show()"
   ]
  },
  {
   "cell_type": "markdown",
   "id": "0b1977d2",
   "metadata": {},
   "source": [
    "## Parameters"
   ]
  },
  {
   "cell_type": "markdown",
   "id": "f8470c14",
   "metadata": {},
   "source": [
    "Set the parameters for the Rabi experiment"
   ]
  },
  {
   "cell_type": "code",
   "execution_count": 19,
   "id": "15b64a6f",
   "metadata": {
    "ExecuteTime": {
     "end_time": "2022-12-02T15:36:26.360884Z",
     "start_time": "2022-12-02T15:36:26.347846Z"
    },
    "tags": []
   },
   "outputs": [],
   "source": [
    "# all times must be divisible by 4\n",
    "reset_time = 200  # reset time for the qubit in microseconds\n",
    "tof = int(tof_measured / 4) * 4  # time of flight must be divisible by 4\n",
    "readout_delay = 164  # time to delay the readout pulse after the start of the rotation pulse\n",
    "\n",
    "navg = 1000  # number of averages\n",
    "stepsize = int(65535 / 100)"
   ]
  },
  {
   "cell_type": "markdown",
   "id": "b8e1ca62",
   "metadata": {},
   "source": [
    "## Rabi"
   ]
  },
  {
   "cell_type": "markdown",
   "id": "7d7326fa",
   "metadata": {},
   "source": [
    "Normally, a Rabi experiment would be performed by changing the amplitude in the inner loop, and averaging in the outer loop. To make the resulting experiment visible on an oscilloscope however, in this tutorial we swapped these two loops"
   ]
  },
  {
   "cell_type": "code",
   "execution_count": 20,
   "id": "c37ba216",
   "metadata": {
    "ExecuteTime": {
     "end_time": "2022-12-02T15:36:33.487407Z",
     "start_time": "2022-12-02T15:36:33.471403Z"
    }
   },
   "outputs": [],
   "source": [
    "# QCM sequence program.\n",
    "qcm_seq_prog = f\"\"\"\n",
    "# Registers used:\n",
    "# R0 loops over the different awg amplitudes used for the rabi driving pulse\n",
    "# R2 is used to count the averages needed for a single amplitude\n",
    "# R3 contains the qubit reset time in microseconds\n",
    "\n",
    "           move          0, R0                       # start with awg amplitude 0 \n",
    "           wait_sync     4                           # Synchronize the QRM with the QCM\n",
    "           \n",
    "           \n",
    "ampl_loop: add           R0, {stepsize}, R0          # increase the pulse amplitude by the stepsize\n",
    "           move          {navg}, R2                  # reset the number of averages and save in the R2 register\n",
    "           \n",
    "           # let the qubit relax to its groundstate\n",
    "navg_loop: move          {reset_time}, R3            # reset the number of microseconds to wait and save in the R3 register\n",
    "rst_loop:  wait          1000                        # wait 1 microsecond\n",
    "           loop          R3,@rst_loop                # repeat the 1 microsecond wait as much as needed to let the qubit relax\n",
    "           \n",
    "           set_awg_gain  R0, R0                      # Set the new amplitude used for the drive pulse\n",
    "           set_mrk       1                           # Set marker 1 high for to enable synchronization with external oscilloscope\n",
    "           wait_sync     4                           # Synchronize with the qrm to signify a measurement is coming\n",
    "           play          2,3,16384                   # Play waveforms and wait remaining duration of scope acquisition\n",
    "           \n",
    "           set_mrk       0                           # Reset marker 1\n",
    "           upd_param     4\n",
    "           \n",
    "           loop          R2,@navg_loop                        # Repeat the experiment to average, until R2 becomes 0\n",
    "           jlt           R0,{num_bins*stepsize},@ampl_loop    # Repeat the experiment for different pulse amplitudes from 0 to num_bins\n",
    "           stop                                               # Stop.\n",
    "           \n",
    "\"\"\"\n",
    "\n",
    "# QRM sequence program.\n",
    "qrm_seq_prog = f\"\"\"\n",
    "# Registers used:\n",
    "# R0 counts which bin to acquire into, a new bin for every new amplitude\n",
    "# R2 is used to count the averages needed for a single amplitude\n",
    "\n",
    "           wait_sync     4                           # Synchronize the QRM with the QCM.\n",
    "           move          0, R0                       # the first acquisition uses bin 0\n",
    "ampl_loop: move          {navg}, R2                  # reset the amount of averages to be taken to the initial value\n",
    "\n",
    "navg_loop: wait_sync     {readout_delay}             # wait for the QCM to signal a pulse is coming and wait the readout_delay\n",
    "           play          1,0,{tof}                   # play readout pulse and wait for the tof\n",
    "           acquire       1,R0,16384                  # Acquire waveforms and wait remaining duration of scope acquisition.\n",
    "           \n",
    "           loop          R2, @navg_loop              # Repeat this measurement for every average\n",
    "           add           R0,1,R0                     # Increment the bin into which we are measuring\n",
    "           jmp           @ampl_loop                  # repeat\n",
    "\"\"\""
   ]
  },
  {
   "cell_type": "markdown",
   "id": "e5fa2117",
   "metadata": {},
   "source": [
    "Upload programs and waveforms to QRM and QCM"
   ]
  },
  {
   "cell_type": "code",
   "execution_count": 21,
   "id": "f9f41f57",
   "metadata": {
    "ExecuteTime": {
     "end_time": "2022-12-02T15:36:35.962298Z",
     "start_time": "2022-12-02T15:36:35.828766Z"
    }
   },
   "outputs": [],
   "source": [
    "# Add QCM sequence to single dictionary and write to JSON file.\n",
    "sequence = {\n",
    "    \"waveforms\": wfs,\n",
    "    \"weights\": {},\n",
    "    \"acquisitions\": acquisitions,\n",
    "    \"program\": qcm_seq_prog,\n",
    "}\n",
    "with open(\"qcm_sequence.json\", \"w\", encoding=\"utf-8\") as file:\n",
    "    json.dump(sequence, file, indent=4)\n",
    "    file.close()\n",
    "\n",
    "# Add QRM sequence to single dictionary and write to JSON file.\n",
    "sequence = {\n",
    "    \"waveforms\": wfs,\n",
    "    \"weights\": {},\n",
    "    \"acquisitions\": acquisitions,\n",
    "    \"program\": qrm_seq_prog,\n",
    "}\n",
    "with open(\"qrm_sequence.json\", \"w\", encoding=\"utf-8\") as file:\n",
    "    json.dump(sequence, file, indent=4)\n",
    "    file.close()\n",
    "\n",
    "# Upload sequence to QCM.\n",
    "control_module.sequencer0.sequence(\"qcm_sequence.json\")\n",
    "\n",
    "# Upload sequence to QRM.\n",
    "readout_module.sequencer0.sequence(\"qrm_sequence.json\")"
   ]
  },
  {
   "cell_type": "markdown",
   "id": "705deec6",
   "metadata": {},
   "source": [
    "Arm and start sequencer0 of both the QCM and QRM. The `wait_sync` command together with the SYNQ technology ensures both modules start simultaneously."
   ]
  },
  {
   "cell_type": "code",
   "execution_count": 22,
   "id": "e0ce59da",
   "metadata": {
    "ExecuteTime": {
     "end_time": "2022-12-02T15:36:50.222341Z",
     "start_time": "2022-12-02T15:36:39.309127Z"
    }
   },
   "outputs": [
    {
     "name": "stdout",
     "output_type": "stream",
     "text": [
      "QCM:\n",
      "Status: RUNNING, Flags: NONE\n",
      "\n",
      "QRM:\n",
      "Status: RUNNING, Flags: ACQ_SCOPE_DONE_PATH_0, ACQ_SCOPE_OVERWRITTEN_PATH_0, ACQ_SCOPE_DONE_PATH_1, ACQ_SCOPE_OVERWRITTEN_PATH_1, ACQ_BINNING_DONE\n",
      "QCM:\n",
      "Status: STOPPED, Flags: NONE\n",
      "QRM:\n",
      "Status: STOPPED, Flags: FORCED_STOP, ACQ_SCOPE_DONE_PATH_0, ACQ_SCOPE_OVERWRITTEN_PATH_0, ACQ_SCOPE_DONE_PATH_1, ACQ_SCOPE_OVERWRITTEN_PATH_1, ACQ_BINNING_DONE\n"
     ]
    }
   ],
   "source": [
    "# Arm and start sequencer of the QCM (only sequencer 0).\n",
    "control_module.arm_sequencer(0)\n",
    "control_module.start_sequencer(0)\n",
    "\n",
    "# Print status of sequencer of the QCM.\n",
    "print(\"QCM:\")\n",
    "print(control_module.get_sequencer_state(0))\n",
    "print()\n",
    "\n",
    "# Arm and start sequencer of the QRM (only sequencer 0).\n",
    "readout_module.arm_sequencer(0)\n",
    "readout_module.start_sequencer(0)\n",
    "\n",
    "# Print status of sequencer of the QRM.\n",
    "print(\"QRM:\")\n",
    "print(readout_module.get_sequencer_state(0))\n",
    "print(\"QCM:\")\n",
    "print(control_module.get_sequencer_state(0, 1))\n",
    "readout_module.stop_sequencer(\n",
    "    0\n",
    ")  # We didn't tell the QRM how many different amplitudes would be measured, so here we tell it to stop.\n",
    "print(\"QRM:\")\n",
    "print(readout_module.get_sequencer_state(0, 1))"
   ]
  },
  {
   "cell_type": "markdown",
   "id": "5ffa5fa2",
   "metadata": {},
   "source": [
    "## Stop\n",
    "\n",
    "Finally, let's stop the sequencers if they haven't already and close the instrument connection. One can also display a detailed snapshot containing the instrument parameters before \n",
    "closing the connection by uncommenting the corresponding lines. "
   ]
  },
  {
   "cell_type": "code",
   "execution_count": 23,
   "id": "08478c34",
   "metadata": {
    "ExecuteTime": {
     "end_time": "2022-12-02T15:36:55.965641Z",
     "start_time": "2022-12-02T15:36:55.942636Z"
    }
   },
   "outputs": [
    {
     "name": "stdout",
     "output_type": "stream",
     "text": [
      "QCM :\n",
      "Status: STOPPED, Flags: FORCED_STOP\n",
      "\n",
      "QRM :\n",
      "Status: STOPPED, Flags: FORCED_STOP, ACQ_SCOPE_DONE_PATH_0, ACQ_SCOPE_OVERWRITTEN_PATH_0, ACQ_SCOPE_DONE_PATH_1, ACQ_SCOPE_OVERWRITTEN_PATH_1, ACQ_BINNING_DONE\n",
      "\n",
      "\n"
     ]
    }
   ],
   "source": [
    "# Stop sequencers.\n",
    "control_module.stop_sequencer()\n",
    "readout_module.stop_sequencer()\n",
    "\n",
    "# Print status of sequencers.\n",
    "print(\"QCM :\")\n",
    "print(control_module.get_sequencer_state(0))\n",
    "print()\n",
    "\n",
    "print(\"QRM :\")\n",
    "print(readout_module.get_sequencer_state(0))\n",
    "print()\n",
    "\n",
    "# Uncomment the following to print an overview of the instrument parameters.\n",
    "# Print an overview of instrument parameters.\n",
    "# print(\"QCM snapshot:\")\n",
    "# qcm.print_readable_snapshot(update=True)\n",
    "print()\n",
    "\n",
    "# print(\"QRM snapshot:\")\n",
    "# qrm.print_readable_snapshot(update=True)\n",
    "\n",
    "# Close the instrument connections.\n",
    "Pulsar.close_all()\n",
    "Cluster.close_all()"
   ]
  },
  {
   "cell_type": "code",
   "execution_count": null,
   "id": "a73c7c16",
   "metadata": {},
   "outputs": [],
   "source": []
  }
 ],
 "metadata": {
  "jupytext": {
   "formats": "ipynb,md"
  },
  "kernelspec": {
   "display_name": "Python 3 (ipykernel)",
   "language": "python",
   "name": "python3"
  },
  "language_info": {
   "codemirror_mode": {
    "name": "ipython",
    "version": 3
   },
   "file_extension": ".py",
   "mimetype": "text/x-python",
   "name": "python",
   "nbconvert_exporter": "python",
   "pygments_lexer": "ipython3",
   "version": "3.8.0"
  },
  "toc": {
   "base_numbering": 1,
   "nav_menu": {},
   "number_sections": true,
   "sideBar": true,
   "skip_h1_title": false,
   "title_cell": "Table of Contents",
   "title_sidebar": "Contents",
   "toc_cell": false,
   "toc_position": {},
   "toc_section_display": true,
   "toc_window_display": false
  }
 },
 "nbformat": 4,
 "nbformat_minor": 5
}
