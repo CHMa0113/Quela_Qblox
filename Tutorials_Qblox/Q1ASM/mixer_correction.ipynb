{
 "cells": [
  {
   "attachments": {},
   "cell_type": "markdown",
   "metadata": {},
   "source": [
    "# Mixer correction\n",
    "In this tutorial we will demonstrate the ability to compensate for output mixer non-idealities and observe the changes using an oscilloscope.\n",
    "\n",
    "Mixer non-idealities can lead to unwanted spurs on the output (LO/RF/IF feedthrough and other spurious products) and they can be compensated by applying adjustments to the I/Q outputs: phase offset, gain ratio and DC offset. This solution applies to both baseband QCM/QRM products using external mixers as well as QCM-RF and QRM-RF products.\n",
    "\n",
    "The tutorial is designed for Cluster QRM/QCM baseband. We will adjust all the parameters listed above and observe the changes to the I/Q outputs directly on an oscilloscope.\n",
    "\n",
    "For QCM-RF and QRM-RF products, one can also refer to the 'mixer calibration' section of the tutorial on [RF-control](https://qblox-qblox-instruments.readthedocs-hosted.com/en/master/tutorials/q1asm_tutorials/basic/rf/rf_control.html#Mixer-calibration).\n",
    "\n",
    "To run this tutorial please make sure you have installed and enabled ipywidgets: \n",
    "```\n",
    "pip install ipywidgets\n",
    "jupyter nbextension enable --py widgetsnbextension\n",
    "```"
   ]
  },
  {
   "attachments": {},
   "cell_type": "markdown",
   "metadata": {},
   "source": [
    "Setup\n",
    "-----\n",
    "\n",
    "First, we are going to import the required packages."
   ]
  },
  {
   "cell_type": "code",
   "execution_count": 1,
   "metadata": {},
   "outputs": [],
   "source": [
    "# Import ipython widgets\n",
    "import json\n",
    "import ipywidgets as widgets\n",
    "\n",
    "# Set up the environment.\n",
    "from IPython.display import display\n",
    "from ipywidgets import fixed, interact, interactive\n",
    "from qcodes import Instrument\n",
    "from qblox_instruments import Cluster, PlugAndPlay"
   ]
  },
  {
   "attachments": {},
   "cell_type": "markdown",
   "metadata": {},
   "source": [
    "### Scan For Clusters\n",
    "\n",
    "We scan for the available clusters on our network using the Plug & Play functionality of the Qblox Instruments package (see [Plug & Play](https://qblox-qblox-instruments.readthedocs-hosted.com/en/master/api_reference/tools.html#api-pnp) for more info)."
   ]
  },
  {
   "cell_type": "code",
   "execution_count": 2,
   "metadata": {},
   "outputs": [
    {
     "data": {
      "application/vnd.jupyter.widget-view+json": {
       "model_id": "f155d1f7adcd4097bbb6a1f3425814a8",
       "version_major": 2,
       "version_minor": 0
      },
      "text/plain": [
       "Dropdown(description='Select Device', options=(('Marketing-Cluster @192.168.1.170', '00015_2247_002'),), value…"
      ]
     },
     "metadata": {},
     "output_type": "display_data"
    }
   ],
   "source": [
    "# Scan for available devices and display\n",
    "with PlugAndPlay() as p:\n",
    "    # get info of all devices\n",
    "    device_list = p.list_devices()\n",
    "\n",
    "names = {dev_id: dev_info[\"description\"][\"name\"] for dev_id, dev_info in device_list.items()}\n",
    "ip_addresses = {dev_id: dev_info[\"identity\"][\"ip\"] for dev_id, dev_info in device_list.items()}\n",
    "\n",
    "# create widget for names and ip addresses\n",
    "connect = widgets.Dropdown(\n",
    "    options=[\n",
    "        (names[dev_id] + \" @\" + ip_addresses[dev_id], dev_id) for dev_id in device_list.keys()\n",
    "    ],\n",
    "    description=\"Select Device\",\n",
    ")\n",
    "display(connect)"
   ]
  },
  {
   "attachments": {},
   "cell_type": "markdown",
   "metadata": {},
   "source": [
    "### Connect to Cluster\n",
    "\n",
    "We now make a connection with the Cluster selected in the dropdown widget. We also define a function to find the modules we're interested in. We select the readout and control module we want to use."
   ]
  },
  {
   "cell_type": "code",
   "execution_count": 3,
   "metadata": {},
   "outputs": [
    {
     "name": "stdout",
     "output_type": "stream",
     "text": [
      "Marketing-Cluster @192.168.1.170 connected\n",
      "Status: OKAY, Flags: NONE, Slot flags: NONE\n"
     ]
    }
   ],
   "source": [
    "# Connect to device\n",
    "dev_id = connect.value\n",
    "# Close the chosen QCodes instrument as to prevent name clash.\n",
    "\n",
    "# PlugAndPlay assigns an instrument name with a hyphen. For example 'pulsar-qrm' as a string for instrument name.\n",
    "# QCodes instrument class cannot handle hyphens, and changes them to underscore '_'.\n",
    "# However, this happens only once with a warning and never again, so code does not work. This line does the automation for it.\n",
    "names[dev_id] = names[dev_id].replace(\"-\", \"_\")\n",
    "\n",
    "try:\n",
    "    Instrument.find_instrument(names[dev_id]).close()\n",
    "except KeyError:\n",
    "    pass\n",
    "\n",
    "cluster = Cluster(name=names[dev_id], identifier=ip_addresses[dev_id])\n",
    "\n",
    "print(f\"{connect.label} connected\")\n",
    "print(cluster.get_system_state())"
   ]
  },
  {
   "cell_type": "code",
   "execution_count": 4,
   "metadata": {},
   "outputs": [
    {
     "name": "stdout",
     "output_type": "stream",
     "text": [
      "Select QCM or QRM module from the available ones:\n"
     ]
    },
    {
     "data": {
      "application/vnd.jupyter.widget-view+json": {
       "model_id": "8c232945610349bc8c514da47856848b",
       "version_major": 2,
       "version_minor": 0
      },
      "text/plain": [
       "Dropdown(options=([None, None], ['Marketing_Cluster module4 (QCM_RF)', <QcmQrm: Marketing_Cluster_module4 of C…"
      ]
     },
     "metadata": {},
     "output_type": "display_data"
    }
   ],
   "source": [
    "def select_module_widget(device, select_all=False, select_rf_type: bool = True):\n",
    "    \"\"\"Create a widget to select modules of a certain type\n",
    "\n",
    "    default is to show only QRM baseband\n",
    "\n",
    "    Args:\n",
    "        devices : Cluster we are currently using\n",
    "        select_all (bool): ignore filters and show all modules\n",
    "        select_rf_type (bool): filter RF/baseband\n",
    "    \"\"\"\n",
    "    options = [[None, None]]\n",
    "\n",
    "    for module in device.modules:\n",
    "        if module.present():\n",
    "            if select_all or module.is_rf_type == select_rf_type:\n",
    "                options.append(\n",
    "                    [\n",
    "                        f\"{device.name} \"\n",
    "                        f\"{module.short_name} \"\n",
    "                        f\"({module.module_type}{'_RF' if module.is_rf_type else ''})\",\n",
    "                        module,\n",
    "                    ]\n",
    "                )\n",
    "    widget = widgets.Dropdown(options=options)\n",
    "    display(widget)\n",
    "\n",
    "    return widget\n",
    "\n",
    "\n",
    "print(\"Select QCM or QRM module from the available ones:\")\n",
    "select_module = select_module_widget(cluster, select_rf_type=True)"
   ]
  },
  {
   "cell_type": "code",
   "execution_count": 5,
   "metadata": {},
   "outputs": [
    {
     "name": "stdout",
     "output_type": "stream",
     "text": [
      "<QcmQrm: Marketing_Cluster_module8 of Cluster: Marketing_Cluster> connected\n",
      "Status: OKAY, Flags: NONE, Slot flags: NONE\n"
     ]
    }
   ],
   "source": [
    "# Connect to the cluster QCM/QRM module\n",
    "module = select_module.value\n",
    "print(f\"{module} connected\")\n",
    "print(cluster.get_system_state())"
   ]
  },
  {
   "attachments": {},
   "cell_type": "markdown",
   "metadata": {},
   "source": [
    "### Reset the Cluster\n",
    "\n",
    "We reset the Cluster to enter a well-defined state. Note that resetting will clear all stored parameters, so resetting between experiments is usually not desirable."
   ]
  },
  {
   "cell_type": "code",
   "execution_count": 8,
   "metadata": {},
   "outputs": [
    {
     "name": "stdout",
     "output_type": "stream",
     "text": [
      "Status: OKAY, Flags: NONE, Slot flags: NONE\n"
     ]
    }
   ],
   "source": [
    "cluster.reset()\n",
    "print(cluster.get_system_state())"
   ]
  },
  {
   "attachments": {},
   "cell_type": "markdown",
   "metadata": {},
   "source": [
    "### Setup Sequencer <a id='setup_seq'></a>\n",
    "\n",
    "\n",
    "The easiest way to view the influence of the mixer correction is to mix the NCO sin and cos with I and Q values of 1 (fullscale). The instrument output would be simple sinusoids with a 90[deg] phase offset and identical amplitude.\n",
    "\n",
    "We use sequencer 0 to set I and Q values of 1 (fullscale) using DC offset and we mix those with the NCO signals."
   ]
  },
  {
   "cell_type": "code",
   "execution_count": 9,
   "metadata": {},
   "outputs": [],
   "source": [
    "# Program sequence we will not use.\n",
    "sequence = {\"waveforms\": {}, \"weights\": {}, \"acquisitions\": {}, \"program\": \"stop\"}\n",
    "with open(\"sequence.json\", \"w\", encoding=\"utf-8\") as file:\n",
    "    json.dump(sequence, file, indent=4)\n",
    "    file.close()\n",
    "module.sequencer0.sequence(sequence)\n",
    "\n",
    "# Program fullscale DC offset on I & Q, turn on NCO and enable modulation.\n",
    "module.sequencer0.offset_awg_path0(1.0)\n",
    "module.sequencer0.offset_awg_path1(1.0)\n",
    "module.sequencer0.nco_freq(10e6)\n",
    "module.sequencer0.mod_en_awg(True)"
   ]
  },
  {
   "attachments": {},
   "cell_type": "markdown",
   "metadata": {},
   "source": [
    "Control sliders\n",
    "-----\n",
    "\n",
    "Create control sliders for the parameters described in the introduction. Each time the value of a parameter is updated, the sequencer is automatically stopped from the embedded firmware for safety reasons and has to be manually restarted.\n",
    "\n",
    "The sliders cover the valid parameter range. If the code below is modified to input invalid values, the firmware will not program the values.\n",
    "\n",
    "Please connect the I/Q outputs ($\\text{O}^{[1-2]}$) to an oscilloscope and set to trigger continuously on the I channel at 0V. Execute the code below, move the sliders and observe the result on the oscilloscope."
   ]
  },
  {
   "cell_type": "code",
   "execution_count": 10,
   "metadata": {},
   "outputs": [
    {
     "ename": "AttributeError",
     "evalue": "'QcmQrm' object and its delegates have no attribute 'out0_offset'",
     "output_type": "error",
     "traceback": [
      "\u001b[1;31m---------------------------------------------------------------------------\u001b[0m",
      "\u001b[1;31mAttributeError\u001b[0m                            Traceback (most recent call last)",
      "Cell \u001b[1;32mIn[10], line 25\u001b[0m\n\u001b[0;32m     21\u001b[0m     module\u001b[38;5;241m.\u001b[39marm_sequencer(\u001b[38;5;241m0\u001b[39m)\n\u001b[0;32m     22\u001b[0m     module\u001b[38;5;241m.\u001b[39mstart_sequencer(\u001b[38;5;241m0\u001b[39m)\n\u001b[1;32m---> 25\u001b[0m I_bounds \u001b[38;5;241m=\u001b[39m \u001b[43mmodule\u001b[49m\u001b[38;5;241;43m.\u001b[39;49m\u001b[43mout0_offset\u001b[49m\u001b[38;5;241m.\u001b[39mvals\u001b[38;5;241m.\u001b[39mvalid_values\n\u001b[0;32m     26\u001b[0m interact(\n\u001b[0;32m     27\u001b[0m     set_offset_I,\n\u001b[0;32m     28\u001b[0m     offset_I\u001b[38;5;241m=\u001b[39mwidgets\u001b[38;5;241m.\u001b[39mFloatSlider(\n\u001b[0;32m     29\u001b[0m         \u001b[38;5;28mmin\u001b[39m\u001b[38;5;241m=\u001b[39mI_bounds[\u001b[38;5;241m0\u001b[39m], \u001b[38;5;28mmax\u001b[39m\u001b[38;5;241m=\u001b[39mI_bounds[\u001b[38;5;241m1\u001b[39m], step\u001b[38;5;241m=\u001b[39m\u001b[38;5;241m0.01\u001b[39m, value\u001b[38;5;241m=\u001b[39m\u001b[38;5;241m0.0\u001b[39m, description\u001b[38;5;241m=\u001b[39m\u001b[38;5;124m\"\u001b[39m\u001b[38;5;124mOffset I:\u001b[39m\u001b[38;5;124m\"\u001b[39m\n\u001b[0;32m     30\u001b[0m     ),\n\u001b[0;32m     31\u001b[0m )\n\u001b[0;32m     33\u001b[0m Q_bounds \u001b[38;5;241m=\u001b[39m module\u001b[38;5;241m.\u001b[39mout1_offset\u001b[38;5;241m.\u001b[39mvals\u001b[38;5;241m.\u001b[39mvalid_values\n",
      "File \u001b[1;32mC:\\ProgramData\\anaconda3\\envs\\quantify-env\\lib\\site-packages\\qcodes\\utils\\attribute_helpers.py:73\u001b[0m, in \u001b[0;36mDelegateAttributes.__getattr__\u001b[1;34m(self, key)\u001b[0m\n\u001b[0;32m     70\u001b[0m     \u001b[38;5;28;01mexcept\u001b[39;00m \u001b[38;5;167;01mAttributeError\u001b[39;00m:\n\u001b[0;32m     71\u001b[0m         \u001b[38;5;28;01mpass\u001b[39;00m\n\u001b[1;32m---> 73\u001b[0m \u001b[38;5;28;01mraise\u001b[39;00m \u001b[38;5;167;01mAttributeError\u001b[39;00m(\n\u001b[0;32m     74\u001b[0m     \u001b[38;5;124m\"\u001b[39m\u001b[38;5;124m'\u001b[39m\u001b[38;5;132;01m{}\u001b[39;00m\u001b[38;5;124m'\u001b[39m\u001b[38;5;124m object and its delegates have no attribute \u001b[39m\u001b[38;5;124m'\u001b[39m\u001b[38;5;132;01m{}\u001b[39;00m\u001b[38;5;124m'\u001b[39m\u001b[38;5;124m\"\u001b[39m\u001b[38;5;241m.\u001b[39mformat(\n\u001b[0;32m     75\u001b[0m         \u001b[38;5;28mself\u001b[39m\u001b[38;5;241m.\u001b[39m\u001b[38;5;18m__class__\u001b[39m\u001b[38;5;241m.\u001b[39m\u001b[38;5;18m__name__\u001b[39m, key\n\u001b[0;32m     76\u001b[0m     )\n\u001b[0;32m     77\u001b[0m )\n",
      "\u001b[1;31mAttributeError\u001b[0m: 'QcmQrm' object and its delegates have no attribute 'out0_offset'"
     ]
    }
   ],
   "source": [
    "def set_offset_I(offset_I):\n",
    "    module.out0_offset(offset_I)\n",
    "    module.arm_sequencer(0)\n",
    "    module.start_sequencer(0)\n",
    "\n",
    "\n",
    "def set_offset_Q(offset_Q):\n",
    "    module.out1_offset(offset_Q)\n",
    "    module.arm_sequencer(0)\n",
    "    module.start_sequencer(0)\n",
    "\n",
    "\n",
    "def set_gain_ratio(gain_ratio):\n",
    "    module.sequencer0.mixer_corr_gain_ratio(gain_ratio)\n",
    "    module.arm_sequencer(0)\n",
    "    module.start_sequencer(0)\n",
    "\n",
    "\n",
    "def set_phase_offset(phase_offset):\n",
    "    module.sequencer0.mixer_corr_phase_offset_degree(phase_offset)\n",
    "    module.arm_sequencer(0)\n",
    "    module.start_sequencer(0)\n",
    "\n",
    "\n",
    "I_bounds = module.out0_offset.vals.valid_values\n",
    "interact(\n",
    "    set_offset_I,\n",
    "    offset_I=widgets.FloatSlider(\n",
    "        min=I_bounds[0], max=I_bounds[1], step=0.01, value=0.0, description=\"Offset I:\"\n",
    "    ),\n",
    ")\n",
    "\n",
    "Q_bounds = module.out1_offset.vals.valid_values\n",
    "interact(\n",
    "    set_offset_Q,\n",
    "    offset_Q=widgets.FloatSlider(\n",
    "        min=Q_bounds[0], max=Q_bounds[1], step=0.01, value=0.0, description=\"Offset Q:\"\n",
    "    ),\n",
    ")\n",
    "\n",
    "# The gain ratio correction is bounded between 1/2 and 2\n",
    "interact(\n",
    "    set_gain_ratio,\n",
    "    gain_ratio=widgets.FloatLogSlider(\n",
    "        min=-1, max=1, step=0.1, value=1.0, base=2, description=\"Gain ratio:\"\n",
    "    ),\n",
    ")\n",
    "\n",
    "ph_bounds = module.sequencer0.mixer_corr_phase_offset_degree.vals.valid_values\n",
    "interact(\n",
    "    set_phase_offset,\n",
    "    phase_offset=widgets.FloatSlider(\n",
    "        min=ph_bounds[0], max=ph_bounds[1], step=1.0, value=0.0, description=\"Phase offset:\"\n",
    "    ),\n",
    ")"
   ]
  },
  {
   "attachments": {},
   "cell_type": "markdown",
   "metadata": {},
   "source": [
    "When tuning the DC offset you might notice that the signal starts \"clipping\". This is caused by the fact that we are already at full-scale, thus any offset takes our signal out of its dynamic range. \n",
    "\n",
    "When this happens, the output LEDs on the module turn orange. This, and other LEDs states, are explained in the [troubleshooting](https://qblox-qblox-instruments.readthedocs-hosted.com/en/master/cluster/troubleshooting.html) guide."
   ]
  },
  {
   "attachments": {},
   "cell_type": "markdown",
   "metadata": {},
   "source": [
    "### Reset the Cluster\n",
    "\n",
    "We reset the Cluster to enter a well-defined state. Note that resetting will clear all stored parameters, so resetting between experiments is usually not desirable."
   ]
  },
  {
   "cell_type": "code",
   "execution_count": 11,
   "metadata": {},
   "outputs": [
    {
     "name": "stdout",
     "output_type": "stream",
     "text": [
      "Status: OKAY, Flags: NONE, Slot flags: NONE\n"
     ]
    }
   ],
   "source": [
    "cluster.reset()\n",
    "print(cluster.get_system_state())"
   ]
  },
  {
   "cell_type": "code",
   "execution_count": null,
   "metadata": {},
   "outputs": [],
   "source": []
  }
 ],
 "metadata": {
  "kernelspec": {
   "display_name": "Python 3 (ipykernel)",
   "language": "python",
   "name": "python3"
  },
  "language_info": {
   "codemirror_mode": {
    "name": "ipython",
    "version": 3
   },
   "file_extension": ".py",
   "mimetype": "text/x-python",
   "name": "python",
   "nbconvert_exporter": "python",
   "pygments_lexer": "ipython3",
   "version": "3.9.18"
  },
  "vscode": {
   "interpreter": {
    "hash": "065ea129c2b103553c36b444f5acc29b8b9963475a3386776c0b4dd228200cd5"
   }
  }
 },
 "nbformat": 4,
 "nbformat_minor": 4
}
