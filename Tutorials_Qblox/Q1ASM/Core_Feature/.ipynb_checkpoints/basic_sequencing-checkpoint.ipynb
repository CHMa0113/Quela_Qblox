{
 "cells": [
  {
   "cell_type": "markdown",
   "metadata": {},
   "source": [
    "Basic sequencing\n",
    "================\n",
    "\n",
    ".. Note::\n",
    "        A version of this tutorial suitable for RF modules can be found [here](https://qblox-qblox-instruments.readthedocs-hosted.com/en/master/tutorials/q1asm_tutorials/basic/rf/basic_sequencing.html).\n",
    "\n",
    "In this tutorial we will demonstrate basic sequencer based operations (see [Sequencer Operation](https://qblox-qblox-instruments.readthedocs-hosted.com/en/master/cluster/q1_sequence_processor.html#operation)) for programming a qblox instrument. \n",
    "This includes creating a sequence consisting of waveforms and a simple Q1ASM program,\n",
    "and executing this sequence synchronously on multiple sequencers.\n",
    "\n",
    "The general process for setting up and executing a program on a Q1 sequencer is as follows:\n",
    "\n",
    "1. Connect to instrument\n",
    "2. Prepare a sequence (JSON formatted file) which consists of \n",
    "    - Waveforms for playback\n",
    "    - Weights for weighted integration\n",
    "    - Acquisitions for capture\n",
    "    - Q1ASM program to be executed by the sequencer\n",
    "3. This sequence is then loaded onto a sequencer on the connected instrument using the method `instrument_variable.sequencerX.sequence(\"SequenceFile.json\")`\n",
    "4. The sequencer is then setup over its API as necessary \n",
    "5. Sequencer is then armed and started to commence the experiment\n",
    "6. Stop the sequencer and close down all instruments\n",
    "\n",
    "This tutorial will give a basic introduction on how to work with the waveforms and Q1ASM segments of a sequence.\n",
    "\n",
    "In the Tutorial the sequence is going to consecutively play two waveforms, a gaussian and block with a duration of 20ns each, with an increasing wait period\n",
    "in between them. We will increase the wait period by 20ns repeated 100 times, after which the sequence is stopped. The sequence will also trigger marker\n",
    "output 1 at every interval, so that the sequence can be easily monitored on an oscilloscope.\n",
    "\n",
    "We can perform this tutorial with either a Cluster QCM/QRM . We use the term 'QxM' encompassing both QCM and QRM modules.\n",
    "\n",
    "To run this tutorial please make sure you have installed and enabled ipywidgets: \n",
    "```\n",
    "pip install ipywidgets\n",
    "jupyter nbextension enable --py widgetsnbextension\n",
    "```"
   ]
  },
  {
   "cell_type": "markdown",
   "metadata": {
    "tags": []
   },
   "source": [
    "Setup\n",
    "-----\n",
    "\n",
    "First, we are going to import the required packages."
   ]
  },
  {
   "cell_type": "code",
   "execution_count": 2,
   "metadata": {},
   "outputs": [],
   "source": [
    "# Import ipython widgets\n",
    "import json\n",
    "import math\n",
    "import os\n",
    "\n",
    "import ipywidgets as widgets\n",
    "import matplotlib.pyplot as plt\n",
    "import numpy as np\n",
    "\n",
    "# Set up the environment.\n",
    "import scipy.signal\n",
    "from IPython.display import display\n",
    "from ipywidgets import fixed, interact, interact_manual, interactive\n",
    "from qcodes import Instrument\n",
    "from qblox_instruments import Cluster, PlugAndPlay"
   ]
  },
  {
   "cell_type": "markdown",
   "metadata": {},
   "source": [
    "### Scan For Clusters\n",
    "\n",
    "We scan for the available devices connected via ethernet using the Plug & Play functionality of the Qblox Instruments package (see [Plug & Play](https://qblox-qblox-instruments.readthedocs-hosted.com/en/master/api_reference/tools.html#api-pnp) for more info)."
   ]
  },
  {
   "cell_type": "code",
   "execution_count": 2,
   "metadata": {},
   "outputs": [
    {
     "data": {
      "application/vnd.jupyter.widget-view+json": {
       "model_id": "28b6ce746fff4e5ca66c5da7ab31c953",
       "version_major": 2,
       "version_minor": 0
      },
      "text/plain": [
       "Dropdown(description='Select Device', options=(('QAE-Cluster @10.10.200.42', '00015_2206_003'), ('DD-Cluster @…"
      ]
     },
     "metadata": {},
     "output_type": "display_data"
    }
   ],
   "source": [
    "with PlugAndPlay() as p:\n",
    "    # get info of all devices\n",
    "    device_list = p.list_devices()\n",
    "\n",
    "# Scan for available devices and display\n",
    "names = {dev_id: dev_info[\"description\"][\"name\"] for dev_id, dev_info in device_list.items()}\n",
    "ip_addresses = {dev_id: dev_info[\"identity\"][\"ip\"] for dev_id, dev_info in device_list.items()}\n",
    "\n",
    "# create widget for names and ip addresses\n",
    "connect = widgets.Dropdown(\n",
    "    options=[\n",
    "        (names[dev_id] + \" @\" + ip_addresses[dev_id], dev_id) for dev_id in device_list.keys()\n",
    "    ],\n",
    "    description=\"Select Device\",\n",
    ")\n",
    "display(connect)"
   ]
  },
  {
   "cell_type": "markdown",
   "metadata": {},
   "source": [
    "### Connect to Cluster\n",
    "\n",
    "We now make a connection with the Cluster selected in the dropdown widget. We also define a function to find the modules we're interested in. We select the readout and control module we want to use. Note that you need to set `select_qrm_type` to `False` is you are using a qcm."
   ]
  },
  {
   "cell_type": "code",
   "execution_count": null,
   "metadata": {},
   "outputs": [],
   "source": [
    "# Connect to device\n",
    "dev_id = connect.value\n",
    "# Close the chosen QCodes instrument as to prevent name clash.\n",
    "\n",
    "# PlugAndPlay assigns an instrument name with a hyphen. For example 'pulsar-qrm' as a string for instrument name.\n",
    "# QCodes instrument class cannot handle hyphens, and changes them to underscore '_'.\n",
    "# However, this happens only once with a warning and never again, so code does not work. This line does the automation for it.\n",
    "names[dev_id] = names[dev_id].replace(\"-\", \"_\")\n",
    "\n",
    "try:\n",
    "    Instrument.find_instrument(names[dev_id]).close()\n",
    "except KeyError:\n",
    "    pass\n",
    "\n",
    "print(ip_addresses)\n",
    "print(dev_id)\n",
    "cluster = Cluster(name=names[dev_id], identifier=ip_addresses[dev_id])\n",
    "\n",
    "print(f\"{connect.label} connected\")\n",
    "print(cluster.get_system_state())"
   ]
  },
  {
   "cell_type": "code",
   "execution_count": 4,
   "metadata": {},
   "outputs": [],
   "source": [
    "def select_module_widget(\n",
    "    device, select_all=False, select_qrm_type: bool = True, select_rf_type: bool = False\n",
    "):\n",
    "    \"\"\"Create a widget to select modules of a certain type\n",
    "\n",
    "    default is to show only QRM baseband\n",
    "\n",
    "    Args:\n",
    "        devices : Cluster we are currently using\n",
    "        select_all (bool): ignore filters and show all modules\n",
    "        select_qrm_type (bool): filter QRM/QCM\n",
    "        select_rf_type (bool): filter RF/baseband\n",
    "    \"\"\"\n",
    "    options = [[None, None]]\n",
    "\n",
    "    for module in device.modules:\n",
    "        if module.present():\n",
    "            if select_all or (\n",
    "                module.is_qrm_type == select_qrm_type and module.is_rf_type == select_rf_type\n",
    "            ):\n",
    "                options.append(\n",
    "                    [\n",
    "                        f\"{device.name} \"\n",
    "                        f\"{module.short_name} \"\n",
    "                        f\"({module.module_type}{'_RF' if module.is_rf_type else ''})\",\n",
    "                        module,\n",
    "                    ]\n",
    "                )\n",
    "    widget = widgets.Dropdown(options=options)\n",
    "    display(widget)\n",
    "\n",
    "    return widget"
   ]
  },
  {
   "cell_type": "code",
   "execution_count": 5,
   "metadata": {},
   "outputs": [
    {
     "name": "stdout",
     "output_type": "stream",
     "text": [
      "Select the readout module from the available modules:\n"
     ]
    },
    {
     "data": {
      "application/vnd.jupyter.widget-view+json": {
       "model_id": "ad14b2cab3c74c9486b750b71df582bb",
       "version_major": 2,
       "version_minor": 0
      },
      "text/plain": [
       "Dropdown(options=([None, None], ['cluster_mm module13 (QRM)', <QcmQrm: cluster_mm_module13 of Cluster: cluster…"
      ]
     },
     "metadata": {},
     "output_type": "display_data"
    }
   ],
   "source": [
    "print(\"Select the readout module from the available modules:\")\n",
    "select_module = select_module_widget(cluster, select_qrm_type=True, select_rf_type=False)"
   ]
  },
  {
   "cell_type": "code",
   "execution_count": null,
   "metadata": {
    "scrolled": true
   },
   "outputs": [],
   "source": [
    "module = select_module.value\n",
    "print(f\"{module} connected\")"
   ]
  },
  {
   "cell_type": "markdown",
   "metadata": {},
   "source": [
    "### Reset the Cluster\n",
    "\n",
    "We reset the Cluster to enter a well-defined state. Note that resetting will clear all stored parameters, so resetting between experiments is usually not desirable."
   ]
  },
  {
   "cell_type": "code",
   "execution_count": null,
   "metadata": {},
   "outputs": [],
   "source": [
    "cluster.reset()\n",
    "print(cluster.get_system_state())"
   ]
  },
  {
   "cell_type": "markdown",
   "metadata": {},
   "source": [
    "Generate waveforms <a id='gen_wf'></a>\n",
    "------------------\n",
    "\n",
    "Next, we need to create the gaussian and block waveforms for the sequence. The waveforms constructed here will be referenced by the Q1ASM program for playback. See section [Sequencer](https://qblox-qblox-instruments.readthedocs-hosted.com/en/master/cluster/q1_sequence_processor.html#sequences) for details on how waveform dictionary is structured."
   ]
  },
  {
   "cell_type": "markdown",
   "metadata": {},
   "source": [
    "Waveform resolution notes "
   ]
  },
  {
   "cell_type": "code",
   "execution_count": 3,
   "metadata": {},
   "outputs": [],
   "source": [
    "# Waveform parameters\n",
    "waveform_length = 22  # nanoseconds\n",
    "\n",
    "# Waveform dictionary (data will hold the samples and index will be used to select the waveforms in the instrument).\n",
    "waveforms = {\n",
    "    \"gaussian\": {\n",
    "        \"data\": scipy.signal.windows.gaussian(waveform_length, std=0.12 * waveform_length).tolist(),\n",
    "        \"index\": 0,\n",
    "    },\n",
    "    \"block\": {\"data\": [1.0 for i in range(0, waveform_length)], \"index\": 1},\n",
    "}"
   ]
  },
  {
   "cell_type": "markdown",
   "metadata": {},
   "source": [
    "Let's plot the waveforms to see what we have created."
   ]
  },
  {
   "cell_type": "code",
   "execution_count": 11,
   "metadata": {},
   "outputs": [
    {
     "data": {
      "image/png": "[encoded data removed]",
      "text/plain": [
       "<Figure size 1000x621.118 with 1 Axes>"
      ]
     },
     "metadata": {},
     "output_type": "display_data"
    }
   ],
   "source": [
    "time = np.arange(0, max(map(lambda d: len(d[\"data\"]), waveforms.values())), 1)\n",
    "fig, ax = plt.subplots(1, 1, figsize=(10, 10 / 1.61))\n",
    "\n",
    "for wf, d in waveforms.items():\n",
    "    ax.plot(time[: len(d[\"data\"])], d[\"data\"], \".-\", linewidth=0.5, label=wf)\n",
    "\n",
    "ax.legend(loc=4)\n",
    "ax.grid(alpha=1 / 10)\n",
    "ax.set_ylabel(\"Waveform primitive amplitude\")\n",
    "ax.set_xlabel(\"Time (ns)\")\n",
    "\n",
    "plt.draw()\n",
    "plt.show()"
   ]
  },
  {
   "cell_type": "markdown",
   "metadata": {},
   "source": [
    "Create Q1ASM program\n",
    "--------------------\n",
    "\n",
    "Now that we have the waveforms for the sequence, we need a Q1ASM program that sequences the waveforms as previously described. The Q1ASM program can address the memory in the sequences waveforms and acquisitions to construct a program for playback. View [Q1 Programming](https://qblox-qblox-instruments.readthedocs-hosted.com/en/master/cluster/q1_sequence_processor.html#instructions) for a break down of available instructions in the Q1ASM language. "
   ]
  },
  {
   "cell_type": "code",
   "execution_count": 12,
   "metadata": {},
   "outputs": [],
   "source": [
    "# Sequence program.\n",
    "seq_prog = \"\"\"\n",
    "       move      100,R0   #Loop iterator.\n",
    "       move      20,R1    #Initial wait period in ns.\n",
    "       wait_sync 4        #Wait for sequencers to synchronize and then wait another 4 ns.\n",
    "\n",
    "loop:  set_mrk   1        #Set marker output 1.\n",
    "       play      0,1,4    #Play a gaussian and a block on output path 0 and 1 respectively and wait 4 ns.\n",
    "       set_mrk   0        #Reset marker output 1.\n",
    "       upd_param 18       #Update parameters and wait the remaining 18 ns of the waveforms.\n",
    "\n",
    "       wait      R1       #Wait period.\n",
    "\n",
    "       play      1,0,22   #Play a block and a gaussian on output path 0 and 1 respectively and wait 22 ns.\n",
    "       wait      1000     #Wait a 1us in between iterations.\n",
    "       add       R1,20,R1 #Increase wait period by 20 ns.\n",
    "       loop      R0,@loop #Subtract one from loop iterator.\n",
    "\n",
    "       stop               #Stop the sequence after the last iteration.\n",
    "\"\"\""
   ]
  },
  {
   "cell_type": "markdown",
   "metadata": {},
   "source": [
    "Prepare and Upload sequence\n",
    "---------------------------\n",
    "\n",
    "Now that we have the waveforms and Q1ASM program, we can combine them in a sequence stored in a JSON file."
   ]
  },
  {
   "cell_type": "code",
   "execution_count": 13,
   "metadata": {},
   "outputs": [],
   "source": [
    "# Add sequence to single dictionary and write to JSON file.\n",
    "sequence = {\n",
    "    \"waveforms\": waveforms,\n",
    "    \"weights\": {},\n",
    "    \"acquisitions\": {},\n",
    "    \"program\": seq_prog,\n",
    "}\n",
    "with open(\"sequence.json\", \"w\", encoding=\"utf-8\") as file:\n",
    "    json.dump(sequence, file, indent=4)\n",
    "    file.close()"
   ]
  },
  {
   "cell_type": "markdown",
   "metadata": {},
   "source": [
    "Let's write the JSON file to the instruments. We will use sequencer 0 and 1, which will drive outputs $\\text{O}^{[1-2]}$ and $\\text{O}^{[3-4]}$ respectively."
   ]
  },
  {
   "cell_type": "code",
   "execution_count": 14,
   "metadata": {},
   "outputs": [],
   "source": [
    "# Upload sequence.\n",
    "module.sequencer0.sequence(\"sequence.json\")\n",
    "module.sequencer1.sequence(\"sequence.json\")"
   ]
  },
  {
   "cell_type": "markdown",
   "metadata": {},
   "source": [
    "Play sequence\n",
    "-------------\n",
    "\n",
    "The sequence has been uploaded to the instrument. Now we need to configure the sequencers in the instrument to use the `wait_sync` instruction\n",
    "at the start of the Q1ASM program to synchronize."
   ]
  },
  {
   "cell_type": "code",
   "execution_count": 15,
   "metadata": {},
   "outputs": [],
   "source": [
    "# Configure the sequencers to synchronize.\n",
    "module.sequencer0.sync_en(True)\n",
    "module.sequencer1.sync_en(True)\n",
    "\n",
    "# Map sequencers to specific outputs (but first disable all sequencer connections).\n",
    "module.disconnect_outputs()\n",
    "\n",
    "# If it is a QRM, we only map sequencer 0 to the outputs.\n",
    "module.sequencer0.connect_sequencer(\"out0_1\")\n",
    "if module.is_qcm_type:\n",
    "    module.sequencer1.connect_sequencer(\"out2_3\")"
   ]
  },
  {
   "cell_type": "markdown",
   "metadata": {},
   "source": [
    "Now let's start the sequence. If you want to observe the sequence, this is the time to connect an oscilloscope to marker output 1 and one or more\n",
    "of the four outputs. Configure the oscilloscope to trigger on the marker output 1."
   ]
  },
  {
   "cell_type": "code",
   "execution_count": 16,
   "metadata": {},
   "outputs": [
    {
     "name": "stdout",
     "output_type": "stream",
     "text": [
      "Status: STOPPED, Flags: NONE\n",
      "Status: STOPPED, Flags: NONE\n"
     ]
    }
   ],
   "source": [
    "# Arm and start both sequencers.\n",
    "module.arm_sequencer(0)\n",
    "module.arm_sequencer(1)\n",
    "module.start_sequencer()\n",
    "\n",
    "# Print status of both sequencers.\n",
    "print(module.get_sequencer_state(0))\n",
    "print(module.get_sequencer_state(1))"
   ]
  },
  {
   "cell_type": "markdown",
   "metadata": {},
   "source": [
    "Stop\n",
    "----\n",
    "\n",
    "Finally, let's stop the sequencers if they haven't already and close the instrument connection. One can also display a detailed snapshot containing the instrument parameters before \n",
    "closing the connection by uncommenting the corresponding lines. "
   ]
  },
  {
   "cell_type": "code",
   "execution_count": 17,
   "metadata": {},
   "outputs": [
    {
     "name": "stdout",
     "output_type": "stream",
     "text": [
      "Status: STOPPED, Flags: FORCED_STOP\n",
      "Status: STOPPED, Flags: FORCED_STOP\n",
      "\n",
      "Status: OKAY, Flags: NONE, Slot flags: NONE\n"
     ]
    }
   ],
   "source": [
    "# Stop both sequencers.\n",
    "module.stop_sequencer()\n",
    "\n",
    "# Print status of both sequencers (should now say it is stopped).\n",
    "print(module.get_sequencer_state(0))\n",
    "print(module.get_sequencer_state(1))\n",
    "print()\n",
    "\n",
    "# Uncomment the following to print an overview of the instrument parameters.\n",
    "# Print an overview of the instrument parameters.\n",
    "# print(\"Snapshot:\")\n",
    "# module.print_readable_snapshot(update=True)\n",
    "\n",
    "# Reset the cluster\n",
    "cluster.reset()\n",
    "print(cluster.get_system_state())"
   ]
  }
 ],
 "metadata": {
  "kernelspec": {
   "display_name": "Python 3 (ipykernel)",
   "language": "python",
   "name": "python3"
  },
  "language_info": {
   "codemirror_mode": {
    "name": "ipython",
    "version": 3
   },
   "file_extension": ".py",
   "mimetype": "text/x-python",
   "name": "python",
   "nbconvert_exporter": "python",
   "pygments_lexer": "ipython3",
   "version": "3.9.13"
  },
  "tags": []
 },
 "nbformat": 4,
 "nbformat_minor": 4
}
