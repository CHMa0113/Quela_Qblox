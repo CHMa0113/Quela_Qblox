{
 "cells": [
  {
   "attachments": {},
   "cell_type": "markdown",
   "metadata": {},
   "source": [
    "TTL acquisition\n",
    "==================\n",
    "\n",
    "In this tutorial we will demonstrate the sequencer based TTL (Transistor-Transistor-Logic) acquisition procedure. The TTL acquisition enables us to count trigger pulses, based on a settable threshold. The acquisition protocol allows us to save the number of triggers in separate bins, or average the triggers on the fly (see section [TTL Acquisitions](https://qblox-qblox-instruments.readthedocs-hosted.com/en/master/cluster/q1_sequence_processor.html#acquisitions)). We will showcase this functionality by using a QRM of which output $\\text{O}^{[1]}$ is directly connected to input $\\text{I}^{[1]}$, to both send pulses and acquire the resulting data.\n",
    "\n",
    "To run this tutorial please make sure you have installed and enabled ipywidgets: \n",
    "```\n",
    "pip install ipywidgets\n",
    "jupyter nbextension enable --py widgetsnbextension\n",
    "```"
   ]
  },
  {
   "attachments": {},
   "cell_type": "markdown",
   "metadata": {
    "tags": []
   },
   "source": [
    "Setup\n",
    "-----\n",
    "\n",
    "First, we are going to import the required packages."
   ]
  },
  {
   "cell_type": "code",
   "execution_count": 6,
   "metadata": {},
   "outputs": [],
   "source": [
    "import math\n",
    "import os\n",
    "\n",
    "import matplotlib.pyplot as plt\n",
    "import numpy as np\n",
    "from numpy import random\n",
    "\n",
    "# Set up the environment.\n",
    "import scipy.signal\n",
    "from IPython.display import display\n",
    "import ipywidgets as widgets\n",
    "from typing import List\n",
    "from qcodes import Instrument\n",
    "from qblox_instruments import Cluster, PlugAndPlay"
   ]
  },
  {
   "attachments": {},
   "cell_type": "markdown",
   "metadata": {},
   "source": [
    "### Scan For Devices\n",
    "\n",
    "We scan for the available devices connected via ethernet using the Plug & Play functionality of the Qblox Instruments package (see [Plug & Play](https://qblox-qblox-instruments.readthedocs-hosted.com/en/master/api_reference/tools.html#api-pnp) for more info)."
   ]
  },
  {
   "cell_type": "code",
   "execution_count": 7,
   "metadata": {
    "scrolled": true
   },
   "outputs": [
    {
     "data": {
      "application/vnd.jupyter.widget-view+json": {
       "model_id": "74933cbfcbe04015aa1f10e43c02f0c7",
       "version_major": 2,
       "version_minor": 0
      },
      "text/plain": [
       "Dropdown(description='Select Device', options=(('DD-Cluster @10.10.200.50', '123-456-789'), ('QAE-Cluster @10.…"
      ]
     },
     "metadata": {},
     "output_type": "display_data"
    }
   ],
   "source": [
    "# Scan for available devices and display\n",
    "with PlugAndPlay() as p:\n",
    "    # get info of all devices\n",
    "    device_list = p.list_devices()\n",
    "\n",
    "names = {dev_id: dev_info[\"description\"][\"name\"] for dev_id, dev_info in device_list.items()}\n",
    "ip_addresses = {dev_id: dev_info[\"identity\"][\"ip\"] for dev_id, dev_info in device_list.items()}\n",
    "\n",
    "# create widget for names and ip addresses\n",
    "connect = widgets.Dropdown(\n",
    "    options=[\n",
    "        (names[dev_id] + \" @\" + ip_addresses[dev_id], dev_id) for dev_id in device_list.keys()\n",
    "    ],\n",
    "    description=\"Select Device\",\n",
    ")\n",
    "display(connect)"
   ]
  },
  {
   "attachments": {},
   "cell_type": "markdown",
   "metadata": {},
   "source": [
    "### Connect to Cluster\n",
    "\n",
    "We now make a connection with the Cluster selected in the dropdown widget. We also define a function to find the modules we're interested in. We select the readout and control module we want to use."
   ]
  },
  {
   "cell_type": "code",
   "execution_count": 8,
   "metadata": {
    "scrolled": true
   },
   "outputs": [
    {
     "name": "stdout",
     "output_type": "stream",
     "text": [
      "QAE-Cluster @10.10.200.42 connected\n",
      "Status: OKAY, Flags: NONE, Slot flags: NONE\n"
     ]
    }
   ],
   "source": [
    "# Connect to device\n",
    "dev_id = connect.value\n",
    "# Close the chosen QCodes instrument as to prevent name clash.\n",
    "\n",
    "# PlugAndPlay assigns an instrument name with a hyphen. For example 'pulsar-qrm' as a string for instrument name.\n",
    "# QCodes instrument class cannot handle hyphens, and changes them to underscore '_'.\n",
    "# However, this happens only once with a warning and never again, so code does not work. This line does the automation for it.\n",
    "names[dev_id] = names[dev_id].replace(\"-\", \"_\")\n",
    "\n",
    "try:\n",
    "    Instrument.find_instrument(names[dev_id]).close()\n",
    "except KeyError:\n",
    "    pass\n",
    "\n",
    "cluster = Cluster(name=names[dev_id], identifier=ip_addresses[dev_id])\n",
    "\n",
    "print(f\"{connect.label} connected\")\n",
    "print(cluster.get_system_state())"
   ]
  },
  {
   "cell_type": "code",
   "execution_count": 9,
   "metadata": {},
   "outputs": [],
   "source": [
    "def select_module_widget(\n",
    "    device, select_all=False, select_qrm_type: bool = True, select_rf_type: bool = False\n",
    "):\n",
    "    \"\"\"Create a widget to select modules of a certain type\n",
    "\n",
    "    default is to show only QRM baseband\n",
    "\n",
    "    Args:\n",
    "        devices : Cluster we are currently using\n",
    "        select_all (bool): ignore filters and show all modules\n",
    "        select_qrm_type (bool): filter QRM/QCM\n",
    "        select_rf_type (bool): filter RF/baseband\n",
    "    \"\"\"\n",
    "    options = [[None, None]]\n",
    "\n",
    "    for module in device.modules:\n",
    "        if module.present():\n",
    "            if select_all or (\n",
    "                module.is_qrm_type == select_qrm_type and module.is_rf_type == select_rf_type\n",
    "            ):\n",
    "                options.append(\n",
    "                    [\n",
    "                        f\"{device.name} \"\n",
    "                        f\"{module.short_name} \"\n",
    "                        f\"({module.module_type}{'_RF' if module.is_rf_type else ''})\",\n",
    "                        module,\n",
    "                    ]\n",
    "                )\n",
    "    widget = widgets.Dropdown(options=options)\n",
    "    display(widget)\n",
    "\n",
    "    return widget"
   ]
  },
  {
   "cell_type": "code",
   "execution_count": 10,
   "metadata": {},
   "outputs": [
    {
     "name": "stdout",
     "output_type": "stream",
     "text": [
      "Select the readout module from the available modules:\n"
     ]
    },
    {
     "data": {
      "application/vnd.jupyter.widget-view+json": {
       "model_id": "c99001190e944f1e9fbd5650596f683f",
       "version_major": 2,
       "version_minor": 0
      },
      "text/plain": [
       "Dropdown(options=([None, None], ['QAE-Cluster module2 (QRM)', <QcmQrm: QAE-Cluster_module2 of Cluster: QAE-Clu…"
      ]
     },
     "metadata": {},
     "output_type": "display_data"
    },
    {
     "name": "stdout",
     "output_type": "stream",
     "text": [
      "Select the control module from the available modules:\n"
     ]
    },
    {
     "data": {
      "application/vnd.jupyter.widget-view+json": {
       "model_id": "9f400c8f68014201b96ae157b54feab8",
       "version_major": 2,
       "version_minor": 0
      },
      "text/plain": [
       "Dropdown(options=([None, None],), value=None)"
      ]
     },
     "metadata": {},
     "output_type": "display_data"
    }
   ],
   "source": [
    "print(\"Select the readout module from the available modules:\")\n",
    "select_readout_module = select_module_widget(cluster, select_qrm_type=True, select_rf_type=False)"
   ]
  },
  {
   "cell_type": "code",
   "execution_count": 11,
   "metadata": {},
   "outputs": [
    {
     "name": "stdout",
     "output_type": "stream",
     "text": [
      "<QcmQrm: QAE-Cluster_module2 of Cluster: QAE-Cluster> connected\n",
      "None connected\n"
     ]
    }
   ],
   "source": [
    "readout_module = select_readout_module.value\n",
    "print(f\"{readout_module} connected\")"
   ]
  },
  {
   "attachments": {},
   "cell_type": "markdown",
   "metadata": {},
   "source": [
    "### Reset the Cluster\n",
    "\n",
    "We reset the Cluster to enter a well-defined state. Note that resetting will clear all stored parameters, so resetting between experiments is usually not desirable."
   ]
  },
  {
   "cell_type": "code",
   "execution_count": null,
   "metadata": {},
   "outputs": [],
   "source": [
    "cluster.reset()\n",
    "print(cluster.get_system_state())"
   ]
  },
  {
   "attachments": {},
   "cell_type": "markdown",
   "metadata": {},
   "source": [
    "Generate waveforms<a id='gen_wf'></a>\n",
    "------------------------------\n",
    "\n",
    "Next, we need to create the waveforms used by the sequence for playback on the outputs. Here, we define a single waveform consisting of a 16 ns block pulse with an amplitude of 0.5."
   ]
  },
  {
   "cell_type": "code",
   "execution_count": 7,
   "metadata": {},
   "outputs": [],
   "source": [
    "# Waveform length parameter\n",
    "waveform_length = 16  # nanoseconds\n",
    "\n",
    "waveforms = {\n",
    "    \"block\": {\"data\": [0.5 for i in range(0, waveform_length)], \"index\": 0},\n",
    "}"
   ]
  },
  {
   "attachments": {},
   "cell_type": "markdown",
   "metadata": {},
   "source": [
    "Specify acquisitions\n",
    "--------------------\n",
    "\n",
    "We need to specify the acquisitions so that the instrument can allocate the required memory for its acquisition list. Here, we create one acquisition that consists of 100 bins, at acquisition index 0."
   ]
  },
  {
   "cell_type": "code",
   "execution_count": 8,
   "metadata": {},
   "outputs": [],
   "source": [
    "# Acquisitions\n",
    "acquisitions = {\n",
    "    \"ttl\": {\"num_bins\": 100, \"index\": 0},\n",
    "}"
   ]
  },
  {
   "attachments": {},
   "cell_type": "markdown",
   "metadata": {},
   "source": [
    "Create Q1ASM programs\n",
    "--------------------\n",
    "\n",
    "Now that we have the waveform and acquisition specified, we define a simple Q1ASM program that sequences the waveforms and one that triggers the acquisitions.\n",
    "We will send 5 block pulses of 16 ns at 1 MHz (with 984 ns in between them). At the same time we will perform a 6000 ns TTL acquisition. Note that 1 MHz is the maximum continuous rate for a TTL acquisition.\n",
    "\n",
    "The TTL acquisition is carried out with the `acquire_ttl` command that takes four arguments. The first argument is the index of what acquisition should be done, the second specifies in what bin index it is stored, the third toggles the acquisition on or off and finally the fourth argument is the amount of ns to wait. See the section on [Q1ASM instructions](https://qblox-qblox-instruments.readthedocs-hosted.com/en/master/cluster/q1_sequence_processor.html#instructions) for a more detailed overview of the sequencer instructions."
   ]
  },
  {
   "cell_type": "code",
   "execution_count": 9,
   "metadata": {},
   "outputs": [],
   "source": [
    "# Sequence program for AWG.\n",
    "seq_prog_awg = \"\"\"\n",
    "        wait_sync 4           #Wait for sequencers to synchronize and then wait another 4ns.     \n",
    "        move      5,R0        #Loop iterator.\n",
    "loop:   \n",
    "        play      0,0,16      #Play a block on output path 0 and wait 16ns.\n",
    "        wait      984         #Wait 984ns\n",
    "        loop      R0, @loop   #Repeat loop until R0 is 0\n",
    "              \n",
    "        stop                  #Stop the sequence after the last iteration.\n",
    "\"\"\"\n",
    "\n",
    "# Sequence program for acquiring\n",
    "seq_prog_acq = \"\"\"\n",
    "        wait_sync 4           #Wait for sequencers to synchronize and then wait another 4ns.  \n",
    "        wait 140              #Approximate time of flight\n",
    "        acquire_ttl 0,0,1,4   #Turn on TTL acquire on input path 0 and wait 4ns.\n",
    "        wait 6000             #Wait 6000ns.\n",
    "        acquire_ttl 0,0,0,4   #Turn off TTL acquire on input path 0 and wait 4ns.\n",
    "        \n",
    "        stop                   #Stop sequencer.\n",
    "\"\"\""
   ]
  },
  {
   "attachments": {},
   "cell_type": "markdown",
   "metadata": {},
   "source": [
    "Upload sequence\n",
    "---------------\n",
    "\n",
    "The sequences are uploaded to the sequencers. We will use sequencer 0 to send the pulses and sequencer 1 to acquire them."
   ]
  },
  {
   "cell_type": "code",
   "execution_count": 10,
   "metadata": {},
   "outputs": [],
   "source": [
    "# Add sequence program, waveform and acquisitions to single dictionary.\n",
    "sequence_awg = {\n",
    "    \"waveforms\": waveforms,\n",
    "    \"weights\": {},\n",
    "    \"acquisitions\": {},\n",
    "    \"program\": seq_prog_awg,\n",
    "}\n",
    "sequence_acq = {\n",
    "    \"waveforms\": {},\n",
    "    \"weights\": {},\n",
    "    \"acquisitions\": acquisitions,\n",
    "    \"program\": seq_prog_acq,\n",
    "}"
   ]
  },
  {
   "cell_type": "code",
   "execution_count": 11,
   "metadata": {},
   "outputs": [],
   "source": [
    "# Upload sequence.\n",
    "readout_module.sequencer0.sequence(sequence_awg)\n",
    "readout_module.sequencer1.sequence(sequence_acq)"
   ]
  },
  {
   "attachments": {},
   "cell_type": "markdown",
   "metadata": {},
   "source": [
    "Play sequence\n",
    "-------------\n",
    "\n",
    "Now we configure the sequencers, and play the sequence.\n",
    "\n",
    "We will use sequencer 0 which will drive output $\\text{O}^{1}$, and sequencer 1 which will acquire on input $\\text{I}^{1}$, enabling syncing, and prepare the (scope) acquisition.\n",
    "\n",
    "Then the TTL acquisition is configured by using `ttl_acq_input_select` to select $\\text{I}^{1}$ as input. We set `ttl_acq_auto_bin_incr_en` to False such that our TTL count will be put in one bin. We set our TTL threshold to a value of 0.5 of our input range (corresponding to 0.5 V) using `ttl_acq_threshold `, and our input gain to 0 dB using `in0_gain`."
   ]
  },
  {
   "cell_type": "code",
   "execution_count": 13,
   "metadata": {},
   "outputs": [],
   "source": [
    "# Map sequencer to specific outputs (but first disable all sequencer connections)\n",
    "readout_module.disconnect_outputs()\n",
    "readout_module.disconnect_inputs()\n",
    "\n",
    "# Drive through first output\n",
    "readout_module.sequencer0.connect_out0(\"I\")\n",
    "\n",
    "# Acquire through first input\n",
    "readout_module.sequencer1.connect_acq_I(\"in0\")\n",
    "\n",
    "# Enable sync\n",
    "readout_module.sequencer0.sync_en(True)\n",
    "readout_module.sequencer1.sync_en(True)\n",
    "\n",
    "# Delete previous acquisition.\n",
    "readout_module.delete_acquisition_data(1, \"ttl\")\n",
    "\n",
    "# Configure scope mode\n",
    "readout_module.scope_acq_sequencer_select(1)\n",
    "\n",
    "# Choose threshold and input gain\n",
    "threshold = 0.5\n",
    "input_gain = 0\n",
    "\n",
    "# Configure the TTL acquisition\n",
    "readout_module.sequencer1.ttl_acq_input_select(0)\n",
    "readout_module.sequencer1.ttl_acq_auto_bin_incr_en(False)\n",
    "\n",
    "# Set input gain and threshold\n",
    "readout_module.in0_gain(input_gain)\n",
    "readout_module.sequencer1.ttl_acq_threshold(threshold)"
   ]
  },
  {
   "attachments": {},
   "cell_type": "markdown",
   "metadata": {},
   "source": [
    "We start the sequence, and print the status flags of our sequencers."
   ]
  },
  {
   "cell_type": "code",
   "execution_count": 14,
   "metadata": {
    "scrolled": true
   },
   "outputs": [
    {
     "name": "stdout",
     "output_type": "stream",
     "text": [
      "Status: STOPPED, Flags: NONE\n",
      "Status: STOPPED, Flags: ACQ_SCOPE_DONE_PATH_0, ACQ_SCOPE_DONE_PATH_1, ACQ_BINNING_DONE\n"
     ]
    }
   ],
   "source": [
    "# Arm and start sequencer.\n",
    "readout_module.arm_sequencer(0)\n",
    "readout_module.arm_sequencer(1)\n",
    "readout_module.start_sequencer()\n",
    "\n",
    "# Print status of sequencer.\n",
    "print(readout_module.get_sequencer_state(0, 1))\n",
    "print(readout_module.get_sequencer_state(1, 1))"
   ]
  },
  {
   "attachments": {},
   "cell_type": "markdown",
   "metadata": {},
   "source": [
    "Retrieve acquisition\n",
    "--------------------\n",
    "\n",
    "We retrieve the acquisition data from sequencer 1. Then, both plot the scope data for the first 6000 ns and print the number of counted pulses, that is stored in `data['acquisition'][\"bins\"][\"avg_cnt\"][0]`."
   ]
  },
  {
   "cell_type": "code",
   "execution_count": 15,
   "metadata": {},
   "outputs": [
    {
     "name": "stdout",
     "output_type": "stream",
     "text": [
      "pulses detected: 5\n"
     ]
    },
    {
     "data": {
      "image/png": "[encoded data removed]",
      "text/plain": [
       "<Figure size 1080x335.404 with 1 Axes>"
      ]
     },
     "metadata": {
      "needs_background": "light"
     },
     "output_type": "display_data"
    }
   ],
   "source": [
    "# Wait for the sequencer to stop with a timeout period of one minute.\n",
    "readout_module.get_acquisition_state(1, 1)\n",
    "\n",
    "# Move acquisition data from temporary memory to acquisition list.\n",
    "readout_module.store_scope_acquisition(1, \"ttl\")\n",
    "\n",
    "# Get acquisition list from instrument.\n",
    "data = readout_module.get_acquisitions(1)[\"ttl\"]\n",
    "\n",
    "# Plot acquired signal on both inputs.\n",
    "print(\"pulses detected: \" + str(data[\"acquisition\"][\"bins\"][\"avg_cnt\"][0]))\n",
    "\n",
    "fig, ax = plt.subplots(1, 1, figsize=(15, 15 / 2 / 1.61))\n",
    "ax.plot(data[\"acquisition\"][\"scope\"][\"path0\"][\"data\"][0:6000], label=\"Trace\")\n",
    "ax.axhline(y=threshold, color=\"r\", label=\"Threshold\")\n",
    "ax.set_xlabel(\"Time (ns)\")\n",
    "ax.set_ylabel(\"Amplitude (Volt)\")\n",
    "plt.legend(loc=\"upper right\")\n",
    "plt.show()"
   ]
  },
  {
   "attachments": {},
   "cell_type": "markdown",
   "metadata": {},
   "source": [
    "We observe that we indeed do see five 16 ns pulses in the scope acquisition. Furthermore we observe that the amount of pulses counted matches the amount we of the scope trace. You are encouraged to change the threshold value and input gain yourself, and learn about th importance of calibrating these values."
   ]
  },
  {
   "attachments": {
    "download.png": {
     "image/png": "[encoded data removed]"
    }
   },
   "cell_type": "markdown",
   "metadata": {},
   "source": [
    "<div class=\"alert alert-block alert-warning\">\n",
    "<h1> Note </h1>\n",
    "It is important to correctly calibrate your input gain and threshold. For example in a setup with noise and/or interferences, setting the input gain too high might result in these kind of pulses:\n",
    "\n",
    "![download.png](attachment:download.png)\n",
    "\n",
    "\n",
    "Such a single pulse results in multiple counts, as the threshold is passed multiple times. We therefore strongly recommend calibrating the TTL acquisition using the scope acquisition as is shown above.\n",
    "    </div>"
   ]
  },
  {
   "attachments": {},
   "cell_type": "markdown",
   "metadata": {},
   "source": [
    "Short pulse bursts\n",
    "--------------------\n",
    "\n",
    "As the acquisition module in the sequencer has an internal buffer of 8 data entries, any pulse bursts of <8 will be handled correctly when exceeding the maximum continuous rate of 1 MHz. When exceeding the buffer limit, a `ACQ_BINNING_FIFO_ERROR` will be thrown.\n",
    "To illustrate this we will define a function `generate_pulse_program` that takes as input `num_pulses` (the number of pulses to generate) and `wait_time` (the time to wait between pulses in ns). \n",
    "We also define a function to upload the sequence to the AWG."
   ]
  },
  {
   "cell_type": "code",
   "execution_count": 16,
   "metadata": {},
   "outputs": [],
   "source": [
    "# Sequence program for AWG.\n",
    "def generate_pulse_program(num_pulses, wait_time):\n",
    "    seq_prog_awg = f\"\"\"\n",
    "        wait_sync 4           #Wait for sequencers to synchronize and then wait another 4ns.   \n",
    "        move      {num_pulses},R0  #Loop iterator.\n",
    "loop:\n",
    "        play      0,0,16      #Play a block on output path 0 and wait 16ns.\n",
    "        wait      {wait_time} #Wait wait_time ns\n",
    "        loop      R0, @loop   #Repeat loop until R0 is 0\n",
    "\n",
    "        stop                  #Stop the sequence after the last iteration.\n",
    "    \"\"\"\n",
    "    return seq_prog_awg\n",
    "\n",
    "\n",
    "# Upload sequence to AWG\n",
    "def upload_sequence(seq_prog_awg):\n",
    "    sequence_awg = {\n",
    "        \"waveforms\": waveforms,\n",
    "        \"weights\": {},\n",
    "        \"acquisitions\": {},\n",
    "        \"program\": seq_prog_awg,\n",
    "    }\n",
    "\n",
    "    readout_module.sequencer0.sequence(sequence_awg)"
   ]
  },
  {
   "attachments": {},
   "cell_type": "markdown",
   "metadata": {},
   "source": [
    "We now generate the program, upload it and set the threshold and input gain."
   ]
  },
  {
   "cell_type": "code",
   "execution_count": 17,
   "metadata": {},
   "outputs": [],
   "source": [
    "seq_prog_awg = generate_pulse_program(num_pulses=5, wait_time=20)\n",
    "upload_sequence(seq_prog_awg)\n",
    "\n",
    "# Choose threshold and input gain\n",
    "threshold = 0.5\n",
    "input_gain = 0\n",
    "\n",
    "# Delete previous acquisition.\n",
    "readout_module.delete_acquisition_data(1, \"ttl\")\n",
    "\n",
    "# Set input gain and threshold\n",
    "readout_module.in0_gain(input_gain)\n",
    "readout_module.sequencer1.ttl_acq_threshold(threshold)"
   ]
  },
  {
   "attachments": {},
   "cell_type": "markdown",
   "metadata": {},
   "source": [
    "We then arm the sequencers and play the sequence."
   ]
  },
  {
   "cell_type": "code",
   "execution_count": 18,
   "metadata": {},
   "outputs": [
    {
     "name": "stdout",
     "output_type": "stream",
     "text": [
      "Status: STOPPED, Flags: NONE\n",
      "Status: STOPPED, Flags: ACQ_SCOPE_DONE_PATH_0, ACQ_SCOPE_DONE_PATH_1, ACQ_BINNING_DONE\n"
     ]
    }
   ],
   "source": [
    "# Arm and start sequencer.\n",
    "readout_module.arm_sequencer(0)\n",
    "readout_module.arm_sequencer(1)\n",
    "readout_module.start_sequencer()\n",
    "\n",
    "# Print status of sequencer.\n",
    "print(readout_module.get_sequencer_state(0, 1))\n",
    "print(readout_module.get_sequencer_state(1, 1))"
   ]
  },
  {
   "attachments": {},
   "cell_type": "markdown",
   "metadata": {},
   "source": [
    "We retrieve the acquisition and plot it as in the previous section."
   ]
  },
  {
   "cell_type": "code",
   "execution_count": 19,
   "metadata": {},
   "outputs": [
    {
     "name": "stdout",
     "output_type": "stream",
     "text": [
      "pulses detected: 5\n"
     ]
    },
    {
     "data": {
      "image/png": "[encoded data removed]",
      "text/plain": [
       "<Figure size 1080x335.404 with 1 Axes>"
      ]
     },
     "metadata": {
      "needs_background": "light"
     },
     "output_type": "display_data"
    }
   ],
   "source": [
    "# Wait for the sequencer to stop with a timeout period of one minute.\n",
    "readout_module.get_acquisition_state(1, 1)\n",
    "\n",
    "# Move acquisition data from temporary memory to acquisition list.\n",
    "readout_module.store_scope_acquisition(1, \"ttl\")\n",
    "\n",
    "# Get acquisition list from instrument.\n",
    "data = readout_module.get_acquisitions(1)[\"ttl\"]\n",
    "\n",
    "# Plot acquired signal on both inputs (first 200 ns).\n",
    "print(\"pulses detected: \" + str(data[\"acquisition\"][\"bins\"][\"avg_cnt\"][0]))\n",
    "\n",
    "fig, ax = plt.subplots(1, 1, figsize=(15, 15 / 2 / 1.61))\n",
    "ax.plot(data[\"acquisition\"][\"scope\"][\"path0\"][\"data\"][0:200], label=\"Trace\")\n",
    "ax.axhline(y=threshold, color=\"r\", label=\"Threshold\")\n",
    "ax.set_xlabel(\"Time (ns)\")\n",
    "ax.set_ylabel(\"Amplitude (Volt)\")\n",
    "plt.legend(loc=\"upper right\")\n",
    "plt.show()"
   ]
  },
  {
   "attachments": {},
   "cell_type": "markdown",
   "metadata": {},
   "source": [
    "We encourage you to play around with the `num_pulses`, `wait_time`, `input_gain` and `threshold` yourself."
   ]
  },
  {
   "attachments": {},
   "cell_type": "markdown",
   "metadata": {},
   "source": [
    "Auto bin increment\n",
    "--------------\n",
    "\n",
    "\n",
    "In the play sequence section we set the `ttl_acq_auto_bin_incr_en` to False, meaning all of our pulses get counted within one bin. When it is set to True our data will be stored in separate bins, where the bin index is incremented by one for every detected pulse. The pulse count is therefore equal to the number of valid bins. When doing multiple measurements, this allows us to acquire a cumulative probability distribution of counted triggers.\n",
    "\n",
    "To illustrate the usage we will define a function which returns a Q1ASM program that plays a `N` amount of pulses (at a 1 MHz rate), where `N` is a random number between 1 and 100 taken from a Poissonian distribution. This is meant to mock a stochastic physical process, e.g the amount of photons emitted by a laser.\n",
    "We will call the function a 1000 times and run it, without deleting the acquisition data between the runs. \n",
    "After this we will plot a histogram from our acquired data to inspect the result."
   ]
  },
  {
   "attachments": {},
   "cell_type": "markdown",
   "metadata": {},
   "source": [
    "We will now define new Q1ASM programs. We define a function which returns a program that generates `num_pulses` number of pulses. These pulses are 16 ns long, and are send at a rate of 1 MHz again.\n",
    "\n",
    "For the acquiring sequencer we will execute the same program as in the previous section, albeit with an acquisition window of 100.000 ns."
   ]
  },
  {
   "cell_type": "code",
   "execution_count": 20,
   "metadata": {},
   "outputs": [],
   "source": [
    "# Sequence program for acquiring\n",
    "seq_prog_acq = \"\"\"\n",
    "        move      10,R0       #Loop iterator.\n",
    "        wait_sync 4           #Wait for sequencers to synchronize and then wait another 4ns.  \n",
    "        wait 140              #Approximate time of flight\n",
    "        acquire_ttl 0,0,1,4   #Turn on TTL acquire on input path 0 and wait 4ns.\n",
    "loop:\n",
    "        wait 10000            #Wait 10000 ns\n",
    "        loop      R0, @loop   #Repeat loop until R0 is 0\n",
    "        acquire_ttl 0,0,0,4   #Turn off TTL acquire on input path 0 and wait 4ns.\n",
    "        \n",
    "        stop                   #Stop sequencer.\n",
    "\"\"\""
   ]
  },
  {
   "attachments": {},
   "cell_type": "markdown",
   "metadata": {},
   "source": [
    "We will first configure our sequencers. Then use `random` to generate an amount of pulses, and repeat this 10000 times."
   ]
  },
  {
   "cell_type": "code",
   "execution_count": 21,
   "metadata": {},
   "outputs": [],
   "source": [
    "# Choose threshold and input gain\n",
    "threshold = 0.5\n",
    "input_gain = 0\n",
    "\n",
    "# Delete previous acquisition.\n",
    "readout_module.delete_acquisition_data(1, \"ttl\")\n",
    "\n",
    "# Configure the TTL acquisition\n",
    "readout_module.sequencer1.ttl_acq_input_select(0)\n",
    "readout_module.sequencer1.ttl_acq_auto_bin_incr_en(True)\n",
    "\n",
    "# Enable sync\n",
    "readout_module.sequencer0.sync_en(True)\n",
    "readout_module.sequencer1.sync_en(True)\n",
    "\n",
    "# Set input gain and threshold\n",
    "readout_module.in0_gain(input_gain)\n",
    "readout_module.sequencer1.ttl_acq_threshold(threshold)\n",
    "\n",
    "sequence_acq = {\n",
    "    \"waveforms\": {},\n",
    "    \"weights\": {},\n",
    "    \"acquisitions\": acquisitions,\n",
    "    \"program\": seq_prog_acq,\n",
    "}\n",
    "\n",
    "# Upload acquire sequence.\n",
    "readout_module.sequencer1.sequence(sequence_acq)\n",
    "\n",
    "# Map sequencer to specific outputs (but first disable all sequencer connections)\n",
    "readout_module.disconnect_outputs()\n",
    "readout_module.disconnect_inputs()\n",
    "\n",
    "# Drive through first output\n",
    "readout_module.sequencer0.connect_out0(\"I\")\n",
    "\n",
    "# Acquire through first input\n",
    "readout_module.sequencer1.connect_acq_I(\"in0\")"
   ]
  },
  {
   "cell_type": "code",
   "execution_count": 22,
   "metadata": {},
   "outputs": [],
   "source": [
    "num_pulses_list = random.poisson(lam=50, size=1000)\n",
    "wait_time = 1000\n",
    "\n",
    "for num_pulses in num_pulses_list:\n",
    "    seq_prog_awg = generate_pulse_program(num_pulses, wait_time)\n",
    "    upload_sequence(seq_prog_awg)\n",
    "    # Arm and start sequencer.\n",
    "    readout_module.arm_sequencer(0)\n",
    "    readout_module.arm_sequencer(1)\n",
    "    readout_module.start_sequencer()\n",
    "    readout_module.get_acquisition_state(1, 1)"
   ]
  },
  {
   "attachments": {},
   "cell_type": "markdown",
   "metadata": {},
   "source": [
    "### Create histogram\n",
    "\n",
    "We retrieve the acquired data from the sequence to take a look at it. "
   ]
  },
  {
   "cell_type": "code",
   "execution_count": 23,
   "metadata": {
    "scrolled": true
   },
   "outputs": [
    {
     "name": "stdout",
     "output_type": "stream",
     "text": [
      "counts per bin: [1000, 1000, 1000, 1000, 1000, 1000, 1000, 1000, 1000, 1000, 1000, 1000, 1000, 1000, 1000, 1000, 1000, 1000, 1000, 1000, 1000, 1000, 1000, 1000, 1000, 1000, 1000, 1000, 1000, 1000, 1000, 999, 999, 998, 995, 987, 981, 973, 959, 940, 917, 893, 859, 814, 766, 711, 657, 614, 566, 512, 462, 401, 344, 294, 255, 210, 181, 150, 112, 91, 70, 51, 36, 27, 19, 11, 10, 7, 6, 3, 2, nan, nan, nan, nan, nan, nan, nan, nan, nan, nan, nan, nan, nan, nan, nan, nan, nan, nan, nan, nan, nan, nan, nan, nan, nan, nan, nan, nan, nan]\n"
     ]
    }
   ],
   "source": [
    "# Wait for the sequencer to stop with a timeout period of one minute.\n",
    "readout_module.get_acquisition_state(1, 1)\n",
    "\n",
    "# Move acquisition data from temporary memory to acquisition list.\n",
    "readout_module.store_scope_acquisition(1, \"ttl\")\n",
    "\n",
    "# Get acquisition list from instrument.\n",
    "data = readout_module.get_acquisitions(1)[\"ttl\"][\"acquisition\"][\"bins\"][\"avg_cnt\"]\n",
    "\n",
    "# Plot acquired signal on both inputs.\n",
    "print(f\"counts per bin: {data}\")"
   ]
  },
  {
   "attachments": {},
   "cell_type": "markdown",
   "metadata": {},
   "source": [
    "Every time the acquisition_ttl is ran the sequencer starts over with incrementing the bins (from bin 0). In every bin, the counts are summed up for all 1000 runs. Therefore, the data is a cumulative probability distribution of triggers counted. We now reorganize the acquired data into a probability distribution function (a histogram), and plot the result."
   ]
  },
  {
   "cell_type": "code",
   "execution_count": 24,
   "metadata": {
    "scrolled": false
   },
   "outputs": [
    {
     "data": {
      "image/png": "[encoded data removed]",
      "text/plain": [
       "<Figure size 432x288 with 1 Axes>"
      ]
     },
     "metadata": {
      "needs_background": "light"
     },
     "output_type": "display_data"
    }
   ],
   "source": [
    "def create_histogram(data):\n",
    "    data_diff = np.diff(data)\n",
    "    res = {\n",
    "        count + 1: -v\n",
    "        for (count, v) in enumerate(data_diff)\n",
    "        if not (np.isnan(v) or np.isclose(v, 0))\n",
    "    }\n",
    "    return res\n",
    "\n",
    "\n",
    "res = create_histogram(data)\n",
    "plt.bar(res.keys(), res.values(), 1, color=\"g\")\n",
    "plt.title(\"1000 runs with a Poissonian distribution (µ = 50) of pulses\")\n",
    "plt.xlabel(\"Trigger Count\")\n",
    "plt.ylabel(\"Occurrence\")\n",
    "plt.show()"
   ]
  },
  {
   "attachments": {},
   "cell_type": "markdown",
   "metadata": {},
   "source": [
    "Stop\n",
    "----\n",
    "\n",
    "Finally, let's stop the sequencers if they haven't already and close the instrument connection. One can also display a detailed snapshot containing the instrument parameters before \n",
    "closing the connection by uncommenting the corresponding lines. "
   ]
  },
  {
   "cell_type": "code",
   "execution_count": 25,
   "metadata": {},
   "outputs": [
    {
     "name": "stdout",
     "output_type": "stream",
     "text": [
      "Status: STOPPED, Flags: FORCED_STOP\n",
      "\n"
     ]
    }
   ],
   "source": [
    "# Stop sequencer.\n",
    "readout_module.stop_sequencer()\n",
    "\n",
    "# Print status of sequencer.\n",
    "print(readout_module.get_sequencer_state(0))\n",
    "print()\n",
    "\n",
    "# Uncomment the following to print an overview of the instrument parameters.\n",
    "# Print an overview of the instrument parameters.\n",
    "# print(\"Snapshot:\")\n",
    "# qrm.print_readable_snapshot(update=True)\n",
    "\n",
    "# Reset the cluster\n",
    "cluster.reset()\n",
    "print(cluster.get_system_state())"
   ]
  }
 ],
 "metadata": {
  "interpreter": {
   "hash": "31f2aee4e71d21fbe5cf8b01ff0e069b9275f58929596ceb00d14d90e3e16cd6"
  },
  "kernelspec": {
   "display_name": "Python 3 (ipykernel)",
   "language": "python",
   "name": "python3"
  },
  "language_info": {
   "codemirror_mode": {
    "name": "ipython",
    "version": 3
   },
   "file_extension": ".py",
   "mimetype": "text/x-python",
   "name": "python",
   "nbconvert_exporter": "python",
   "pygments_lexer": "ipython3",
   "version": "3.9.12"
  },
  "widgets": {
   "application/vnd.jupyter.widget-state+json": {
    "state": {
     "03f0b6fe39154c859045052f7ce825b1": {
      "model_module": "@jupyter-widgets/controls",
      "model_module_version": "1.5.0",
      "model_name": "DescriptionStyleModel",
      "state": {
       "description_width": ""
      }
     },
     "082e1028e19a42728ef060eec4ae155b": {
      "model_module": "@jupyter-widgets/controls",
      "model_module_version": "1.5.0",
      "model_name": "DescriptionStyleModel",
      "state": {
       "description_width": ""
      }
     },
     "0b899c5a222d4328af93eb8a784eacac": {
      "model_module": "@jupyter-widgets/base",
      "model_module_version": "1.2.0",
      "model_name": "LayoutModel",
      "state": {}
     },
     "1cae236c888542b1bb75f0a191ae44d6": {
      "model_module": "@jupyter-widgets/controls",
      "model_module_version": "1.5.0",
      "model_name": "DropdownModel",
      "state": {
       "_options_labels": [
        "module8"
       ],
       "index": 0,
       "layout": "IPY_MODEL_f7096b261042425aa3bb6df6043d5232",
       "style": "IPY_MODEL_a26d39036504496ebf1ea0b3bd7df0b4"
      }
     },
     "3606e0cac00148eeb7aa9f8d228d56a3": {
      "model_module": "@jupyter-widgets/controls",
      "model_module_version": "1.5.0",
      "model_name": "DescriptionStyleModel",
      "state": {
       "description_width": ""
      }
     },
     "3b114af916ee4999aeaebd7b78c9c730": {
      "model_module": "@jupyter-widgets/controls",
      "model_module_version": "1.5.0",
      "model_name": "DropdownModel",
      "state": {
       "_options_labels": [
        "cluster-mm"
       ],
       "description": "Select Device",
       "index": 0,
       "layout": "IPY_MODEL_0b899c5a222d4328af93eb8a784eacac",
       "style": "IPY_MODEL_03f0b6fe39154c859045052f7ce825b1"
      }
     },
     "47b00ee92b764bf8a8fc1eceeb5e3df0": {
      "model_module": "@jupyter-widgets/base",
      "model_module_version": "1.2.0",
      "model_name": "LayoutModel",
      "state": {}
     },
     "55fe574742944c829be33ff10cc685c4": {
      "model_module": "@jupyter-widgets/base",
      "model_module_version": "1.2.0",
      "model_name": "LayoutModel",
      "state": {}
     },
     "5cc90d03382e4fb9a5e780a178728195": {
      "model_module": "@jupyter-widgets/controls",
      "model_module_version": "1.5.0",
      "model_name": "DescriptionStyleModel",
      "state": {
       "description_width": ""
      }
     },
     "5f7ed04dd5914b70a7a58de6229738f2": {
      "model_module": "@jupyter-widgets/controls",
      "model_module_version": "1.5.0",
      "model_name": "DropdownModel",
      "state": {
       "_options_labels": [
        "module8"
       ],
       "index": 0,
       "layout": "IPY_MODEL_899992e963d74cb7a0447a88b62729ec",
       "style": "IPY_MODEL_6d806020a6734192beceb21dd188126e"
      }
     },
     "6d806020a6734192beceb21dd188126e": {
      "model_module": "@jupyter-widgets/controls",
      "model_module_version": "1.5.0",
      "model_name": "DescriptionStyleModel",
      "state": {
       "description_width": ""
      }
     },
     "899992e963d74cb7a0447a88b62729ec": {
      "model_module": "@jupyter-widgets/base",
      "model_module_version": "1.2.0",
      "model_name": "LayoutModel",
      "state": {}
     },
     "951760d575e74d52b5d18a2a94bede80": {
      "model_module": "@jupyter-widgets/controls",
      "model_module_version": "1.5.0",
      "model_name": "DropdownModel",
      "state": {
       "_options_labels": [
        "cluster-mm"
       ],
       "description": "Select Device",
       "index": 0,
       "layout": "IPY_MODEL_b6cf29a5e6d4484a8218f610ce3086c7",
       "style": "IPY_MODEL_3606e0cac00148eeb7aa9f8d228d56a3"
      }
     },
     "a2104283bca8416dafafa4f0b4fc4df6": {
      "model_module": "@jupyter-widgets/base",
      "model_module_version": "1.2.0",
      "model_name": "LayoutModel",
      "state": {}
     },
     "a26d39036504496ebf1ea0b3bd7df0b4": {
      "model_module": "@jupyter-widgets/controls",
      "model_module_version": "1.5.0",
      "model_name": "DescriptionStyleModel",
      "state": {
       "description_width": ""
      }
     },
     "b05c483bf3de4c0fb51d44d39fd837e9": {
      "model_module": "@jupyter-widgets/controls",
      "model_module_version": "1.5.0",
      "model_name": "DropdownModel",
      "state": {
       "_options_labels": [
        "cluster-mm"
       ],
       "description": "Select Device",
       "index": 0,
       "layout": "IPY_MODEL_55fe574742944c829be33ff10cc685c4",
       "style": "IPY_MODEL_082e1028e19a42728ef060eec4ae155b"
      }
     },
     "b6cf29a5e6d4484a8218f610ce3086c7": {
      "model_module": "@jupyter-widgets/base",
      "model_module_version": "1.2.0",
      "model_name": "LayoutModel",
      "state": {}
     },
     "c5ee3b91fa6945d8870ef6b07ead9d71": {
      "model_module": "@jupyter-widgets/controls",
      "model_module_version": "1.5.0",
      "model_name": "DescriptionStyleModel",
      "state": {
       "description_width": ""
      }
     },
     "c6b4f30421484887a1015399895c6c94": {
      "model_module": "@jupyter-widgets/controls",
      "model_module_version": "1.5.0",
      "model_name": "DropdownModel",
      "state": {
       "_options_labels": [
        "module8"
       ],
       "index": 0,
       "layout": "IPY_MODEL_a2104283bca8416dafafa4f0b4fc4df6",
       "style": "IPY_MODEL_f138390e23d64fc2bbc36a0c5e97e649"
      }
     },
     "d57c5c8020ec43b9b3ce44dac683d15d": {
      "model_module": "@jupyter-widgets/controls",
      "model_module_version": "1.5.0",
      "model_name": "DropdownModel",
      "state": {
       "_options_labels": [
        "cluster-mm"
       ],
       "description": "Select Device",
       "index": 0,
       "layout": "IPY_MODEL_47b00ee92b764bf8a8fc1eceeb5e3df0",
       "style": "IPY_MODEL_5cc90d03382e4fb9a5e780a178728195"
      }
     },
     "eaf92e82c1e2497f81234596c107e433": {
      "model_module": "@jupyter-widgets/base",
      "model_module_version": "1.2.0",
      "model_name": "LayoutModel",
      "state": {}
     },
     "f138390e23d64fc2bbc36a0c5e97e649": {
      "model_module": "@jupyter-widgets/controls",
      "model_module_version": "1.5.0",
      "model_name": "DescriptionStyleModel",
      "state": {
       "description_width": ""
      }
     },
     "f55687d9dd5545aa811ab1345ad0c893": {
      "model_module": "@jupyter-widgets/controls",
      "model_module_version": "1.5.0",
      "model_name": "DropdownModel",
      "state": {
       "_options_labels": [
        "module8"
       ],
       "index": 0,
       "layout": "IPY_MODEL_eaf92e82c1e2497f81234596c107e433",
       "style": "IPY_MODEL_c5ee3b91fa6945d8870ef6b07ead9d71"
      }
     },
     "f7096b261042425aa3bb6df6043d5232": {
      "model_module": "@jupyter-widgets/base",
      "model_module_version": "1.2.0",
      "model_name": "LayoutModel",
      "state": {}
     }
    },
    "version_major": 2,
    "version_minor": 0
   }
  }
 },
 "nbformat": 4,
 "nbformat_minor": 4
}
