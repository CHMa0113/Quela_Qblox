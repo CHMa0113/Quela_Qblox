{
 "cells": [
  {
   "cell_type": "code",
   "execution_count": 28,
   "metadata": {},
   "outputs": [],
   "source": [
    "import os\n",
    "import json\n",
    "import time\n",
    "\n",
    "# =====================put in py==========================\n",
    "\n",
    "def init_qubit_file(type:str, name:str, file):\n",
    "    \"\"\"\n",
    "    生成一份chip file，輸入type和chip name後，會檢查這一份chip有沒有存在，\n",
    "    若有則直接讀取後更新每天的timestamp，\n",
    "    若無則會根據chip type複製一份檔案並更新在chip_information和每天的timestamp\n",
    "    \n",
    "    type: \"5Q\", ...\n",
    "    name: arbitrary name\n",
    "    \n",
    "    \"\"\"\n",
    "    if type == \"5Q\":\n",
    "        blank_file = \"blank_chip_information.json\"\n",
    "        \n",
    "    else:\n",
    "        raise ValueError(\"We don't have this chip type, are you live in parallel space?\")\n",
    "    \n",
    "    chip_file_path = os.getcwd()+\"\\chip_information\"\n",
    "    chip_Timestamp_path = chip_file_path+\"\\Timestamp\"\n",
    "    chip_path_today = chip_Timestamp_path+'\\\\'+time.strftime('%Y%m%d',time.localtime(time.time()))\n",
    "    chip_file_today = os.path.join(chip_path_today, time.strftime('%Y%m%d',time.localtime(time.time()))+'_'+file)    \n",
    "    \n",
    "    file_exist = False\n",
    "    file_name = os.path.join(chip_file_path, file)\n",
    "    \n",
    "    # check the total chip information\n",
    "    for root, dirs, files in os.walk(chip_file_path):\n",
    "        for il in files:\n",
    "            if il == file:\n",
    "                #print(f'{il} exist')\n",
    "                file_exist = True\n",
    "                \n",
    "    if file_exist == False:\n",
    "        with open(os.path.join(chip_file_path, blank_file), \"r\") as blank, open(file_name, 'w') as new:\n",
    "            new.write(blank.read())\n",
    "            \n",
    "        with open(file_name, 'r') as rd:\n",
    "            chip_information = json.load(rd)\n",
    "        \n",
    "        chip_information[\"basic_information\"][\"chip_name\"] = name\n",
    "        chip_information[\"basic_information\"][\"chip_file\"] = file_name\n",
    "        #chip_information[\"basic_information\"][\"create_time\"] = \n",
    "            \n",
    "        with open(file_name, 'w') as up:\n",
    "            json.dump(chip_information, up, indent=4)\n",
    "        \n",
    "    else:\n",
    "        \n",
    "        with open(file_name, 'r') as qu:\n",
    "            chip_information = json.load(qu)\n",
    "            #print(chip_information[\"basic_information\"][\"qubit_name\"])\n",
    "            \n",
    "    # check today's chip imformation\n",
    "\n",
    "    if os.path.isdir(chip_path_today): \n",
    "        with open(chip_file_today, 'w') as up:\n",
    "            json.dump(chip_information, up, indent=4)\n",
    "        # if the demo_folder2 directory is  \n",
    "        # not present then create it. \n",
    "    else:\n",
    "        os.makedirs(chip_path_today)\n",
    "        with open(chip_file_today, 'w') as up:\n",
    "            json.dump(chip_information, up, indent=4) \n",
    "    \n",
    "            \n",
    "    \n",
    "    return chip_information\n",
    "\n",
    "def update_qubit_file(file, chip_information):\n",
    "    \n",
    "    chip_file_path = os.getcwd()+\"\\chip_information\"\n",
    "    chip_Timestamp_path = chip_file_path+\"\\Timestamp\"\n",
    "    chip_path_today = chip_Timestamp_path+'\\\\'+time.strftime('%Y%m%d',time.localtime(time.time()))\n",
    "    chip_file_today = os.path.join(chip_path_today, time.strftime('%Y%m%d',time.localtime(time.time()))+'_'+file)  \n",
    "    \n",
    "    with open(os.path.join(chip_file_path, file), 'w') as up:\n",
    "        json.dump(chip_information, up, indent=4)\n",
    "\n",
    "        \n",
    "    with open(chip_file_today, 'w') as up:\n",
    "        json.dump(chip_information, up, indent=4) \n",
    "    \n",
    "    print(\"updated!\")        "
   ]
  },
  {
   "cell_type": "code",
   "execution_count": 27,
   "metadata": {},
   "outputs": [],
   "source": [
    "# ============= manually set Parameters =================\n",
    "chip_name = \"5Qtest2\"\n",
    "chip_type = \"5Q\"\n",
    "\n",
    "# ======================put in MeasFlow====================\n",
    "\n",
    "chip_file = chip_name+\".json\"\n",
    "\n",
    "qu_inf = load_qubit_file(chip_type, chip_name, chip_file)\n",
    "#qu_inf[\"basic_information\"][\"chip_name\"] = \"5qqqqq\"\n",
    "#update_qubit_file(chip_file, qu_inf)"
   ]
  },
  {
   "cell_type": "code",
   "execution_count": 4,
   "metadata": {},
   "outputs": [
    {
     "name": "stdout",
     "output_type": "stream",
     "text": [
      "20231229\n",
      "<class 'str'>\n"
     ]
    }
   ],
   "source": [
    "import time\n",
    "t2 = time.strftime('%Y%m%d',time.localtime(time.time()))\n",
    "\n",
    "print(t2)\n",
    "print(type(t2))"
   ]
  },
  {
   "cell_type": "code",
   "execution_count": 13,
   "metadata": {},
   "outputs": [],
   "source": [
    "import os\n",
    "import json\n",
    "\n",
    "chip_file_path = os.getcwd()+\"\\chip_information\"\n",
    "chip_Timestamp_path = chip_file_path+\"\\Timestamp\"\n",
    "chip_Timestamp_path_today = chip_Timestamp_path+'\\\\'+time.strftime('%Y%m%d',time.localtime(time.time()))\n",
    "chip_Timestamp_file_today = os.path.join(chip_Timestamp_path_today, time.strftime('%Y%m%d',time.localtime(time.time())+'_'+file)\n",
    "\n",
    "\n",
    "if os.path.isdir(chip_Timestamp_path_today): \n",
    "    with open(file_name, 'w') as up:\n",
    "        json.dump(chip_information, up, indent=4)\n",
    "    # if the demo_folder2 directory is  \n",
    "    # not present then create it. \n",
    "else:\n",
    "    os.makedirs(chip_Timestamp_path_today) \n"
   ]
  }
 ],
 "metadata": {
  "kernelspec": {
   "display_name": "quantify-env",
   "language": "python",
   "name": "python3"
  },
  "language_info": {
   "codemirror_mode": {
    "name": "ipython",
    "version": 3
   },
   "file_extension": ".py",
   "mimetype": "text/x-python",
   "name": "python",
   "nbconvert_exporter": "python",
   "pygments_lexer": "ipython3",
   "version": "3.9.18"
  },
  "orig_nbformat": 4,
  "vscode": {
   "interpreter": {
    "hash": "89cd5e46bc7bdf6949db6094f39a3e2c5522d880feeea65ff97926f76b70bcb9"
   }
  }
 },
 "nbformat": 4,
 "nbformat_minor": 2
}
